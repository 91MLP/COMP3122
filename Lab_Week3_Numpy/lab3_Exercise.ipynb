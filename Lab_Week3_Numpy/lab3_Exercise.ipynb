{
  "cells": [
    {
      "cell_type": "markdown",
      "metadata": {
        "colab_type": "text",
        "id": "view-in-github"
      },
      "source": [
        "<a href=\"https://colab.research.google.com/github/91MLP/COMP3122/blob/main/Lab_Week3_Numpy/lab3_Exercise.ipynb\" target=\"_parent\"><img src=\"https://colab.research.google.com/assets/colab-badge.svg\" alt=\"Open In Colab\"/></a>"
      ]
    },
    {
      "cell_type": "markdown",
      "metadata": {
        "id": "CiuVfpDPx2bo"
      },
      "source": [
        "# Lab exercise, week 3 - numpy & matplotlib basics\n",
        "\n",
        "Contents:\n",
        "- Overview of numpy arrays\n",
        "- Exercises for numpy\n",
        "- Exercises for plotting"
      ]
    },
    {
      "cell_type": "markdown",
      "metadata": {
        "id": "i6IdKWTNx2bq"
      },
      "source": [
        "## NumPy - overview\n",
        "\n",
        "Python lists are somewhat weird creatures. In contrast to basic array types in other languages like C# and Java, they can hold objects of different types and new elements can be inserted in the middle. NumPy arrays are much more like C# arrays - all elements have the same type."
      ]
    },
    {
      "cell_type": "code",
      "execution_count": null,
      "metadata": {
        "id": "bgbCoN5ix2bq"
      },
      "outputs": [],
      "source": [
        "# by convention numpy is always imported as np\n",
        "import numpy as np"
      ]
    },
    {
      "cell_type": "markdown",
      "metadata": {
        "id": "KINtctUgx2bq"
      },
      "source": [
        "### Common ways of creating numpy arrays"
      ]
    },
    {
      "cell_type": "code",
      "execution_count": null,
      "metadata": {
        "id": "R7ikLOx4x2br",
        "outputId": "9d840970-5632-4196-ff07-3cb41544c29d"
      },
      "outputs": [
        {
          "data": {
            "text/plain": [
              "array([ 5,  2, 17])"
            ]
          },
          "execution_count": 2,
          "metadata": {},
          "output_type": "execute_result"
        }
      ],
      "source": [
        "a = np.array([5, 2, 17])  # Convert a Python list into a numpy array\n",
        "a"
      ]
    },
    {
      "cell_type": "code",
      "execution_count": null,
      "metadata": {
        "id": "sGeeaoFtx2br",
        "outputId": "d9b1e64d-8550-4aac-c1f7-268a6dcb8b39"
      },
      "outputs": [
        {
          "data": {
            "text/plain": [
              "array([[5, 7, 2],\n",
              "       [9, 4, 1]])"
            ]
          },
          "execution_count": 3,
          "metadata": {},
          "output_type": "execute_result"
        }
      ],
      "source": [
        "# List of lists gets converted into a 2D array\n",
        "np.array([[5, 7, 2],\n",
        "          [9, 4, 1]])\n"
      ]
    },
    {
      "cell_type": "code",
      "execution_count": null,
      "metadata": {
        "id": "mO__9n4Dx2br",
        "outputId": "ddf90588-cda0-4306-bbee-2d0fa4c2a74b"
      },
      "outputs": [
        {
          "data": {
            "text/plain": [
              "array([0, 1, 2, 3, 4])"
            ]
          },
          "execution_count": 6,
          "metadata": {},
          "output_type": "execute_result"
        }
      ],
      "source": [
        "np.arange(5)  # Same as Python's range() but creates a numpy array"
      ]
    },
    {
      "cell_type": "code",
      "execution_count": null,
      "metadata": {
        "id": "_MxBXXUUx2br",
        "outputId": "f0b9ba12-0bc4-4e55-9e59-71012934d180"
      },
      "outputs": [
        {
          "data": {
            "text/plain": [
              "array([0., 0., 0., 0., 0.])"
            ]
          },
          "execution_count": 7,
          "metadata": {},
          "output_type": "execute_result"
        }
      ],
      "source": [
        "np.zeros(5)  # Create a numpy array with five elements, all set to zero"
      ]
    },
    {
      "cell_type": "code",
      "execution_count": null,
      "metadata": {
        "id": "W27_6fRlx2br",
        "outputId": "efa59acb-ae7e-4242-d717-220009cdaf25"
      },
      "outputs": [
        {
          "data": {
            "text/plain": [
              "array([1., 1., 1., 1., 1., 1., 1.])"
            ]
          },
          "execution_count": 8,
          "metadata": {},
          "output_type": "execute_result"
        }
      ],
      "source": [
        "c = np.ones(7)  # Create a numpy array with five elements, all set to 1\n",
        "c\n"
      ]
    },
    {
      "cell_type": "code",
      "execution_count": null,
      "metadata": {
        "id": "Y7IATb-mx2bs",
        "outputId": "7aaedcd8-eeb8-4d19-fca4-b71636f52c2a"
      },
      "outputs": [
        {
          "data": {
            "text/plain": [
              "array([0.14654318, 0.24300736, 0.74564537, 0.58652819, 0.39433085,\n",
              "       0.94389319])"
            ]
          },
          "execution_count": 9,
          "metadata": {},
          "output_type": "execute_result"
        }
      ],
      "source": [
        "# Array of 6 random numbers between 0 and 1\n",
        "np.random.rand(6)"
      ]
    },
    {
      "cell_type": "code",
      "execution_count": null,
      "metadata": {
        "id": "l5q612SQx2bs",
        "outputId": "47432f25-f62c-41dd-e684-42eb43f34fb0"
      },
      "outputs": [
        {
          "data": {
            "text/plain": [
              "array([64, 97,  1, 69, 74, 72])"
            ]
          },
          "execution_count": 10,
          "metadata": {},
          "output_type": "execute_result"
        }
      ],
      "source": [
        "# array with 6 random integers between 0 and 100 (not including 100 as usual)\n",
        "np.random.randint(100, size=6)"
      ]
    },
    {
      "cell_type": "markdown",
      "metadata": {
        "id": "cPYLAL2Ix2bs"
      },
      "source": [
        "### Array properties"
      ]
    },
    {
      "cell_type": "code",
      "execution_count": null,
      "metadata": {
        "id": "_jgxLlnEx2bs",
        "outputId": "11d986e0-2227-4372-c6a6-0980b97efd6d"
      },
      "outputs": [
        {
          "data": {
            "text/plain": [
              "array([[5, 7, 2],\n",
              "       [9, 4, 1]])"
            ]
          },
          "execution_count": 11,
          "metadata": {},
          "output_type": "execute_result"
        }
      ],
      "source": [
        "b = np.array([[5, 7, 2],\n",
        "              [9, 4, 1]])\n",
        "b"
      ]
    },
    {
      "cell_type": "code",
      "execution_count": null,
      "metadata": {
        "id": "Hb9TpBurx2bt",
        "outputId": "b3eefd39-3c0d-40e6-a12f-5ba4c2497d3a"
      },
      "outputs": [
        {
          "data": {
            "text/plain": [
              "dtype('int64')"
            ]
          },
          "execution_count": 12,
          "metadata": {},
          "output_type": "execute_result"
        }
      ],
      "source": [
        "# Data type of the array\n",
        "a.dtype"
      ]
    },
    {
      "cell_type": "code",
      "execution_count": null,
      "metadata": {
        "id": "MRsf6fHxx2bt",
        "outputId": "abf02415-269f-437f-9b7e-4c7704d891e2"
      },
      "outputs": [
        {
          "data": {
            "text/plain": [
              "2"
            ]
          },
          "execution_count": 13,
          "metadata": {},
          "output_type": "execute_result"
        }
      ],
      "source": [
        "# number of dimensions\n",
        "b.ndim"
      ]
    },
    {
      "cell_type": "code",
      "execution_count": null,
      "metadata": {
        "id": "zOJgmlZdx2bt",
        "outputId": "838ff482-6bf6-4d16-c501-37c922b214dd"
      },
      "outputs": [
        {
          "data": {
            "text/plain": [
              "(2, 3)"
            ]
          },
          "execution_count": 14,
          "metadata": {},
          "output_type": "execute_result"
        }
      ],
      "source": [
        "# array shape is a Python tuple, in this case it's (2, 3) because b is a 2 by 3 array.\n",
        "b.shape"
      ]
    },
    {
      "cell_type": "code",
      "execution_count": null,
      "metadata": {
        "id": "84NqiOQWx2bt",
        "outputId": "a3c3043a-776e-41e0-dbef-2acb740081c1"
      },
      "outputs": [
        {
          "data": {
            "text/plain": [
              "6"
            ]
          },
          "execution_count": 15,
          "metadata": {},
          "output_type": "execute_result"
        }
      ],
      "source": [
        "# The total number of elements\n",
        "b.size"
      ]
    },
    {
      "cell_type": "code",
      "execution_count": null,
      "metadata": {
        "id": "HF_WnjRbx2bt",
        "outputId": "53bbde11-513b-4df1-abf6-63837ae3c7b7"
      },
      "outputs": [
        {
          "data": {
            "text/plain": [
              "dtype('float64')"
            ]
          },
          "execution_count": 16,
          "metadata": {},
          "output_type": "execute_result"
        }
      ],
      "source": [
        "# Note that zeros byt default uses the float64 data type\n",
        "z = np.zeros(7)\n",
        "z.dtype"
      ]
    },
    {
      "cell_type": "code",
      "execution_count": null,
      "metadata": {
        "id": "LzuqlUKYx2bt",
        "outputId": "90252c14-d2b8-4728-be78-fb5cb03c49d6"
      },
      "outputs": [
        {
          "data": {
            "text/plain": [
              "dtype('int8')"
            ]
          },
          "execution_count": 17,
          "metadata": {},
          "output_type": "execute_result"
        }
      ],
      "source": [
        "# But data type can be set explicitly, almost all numpy functions that create arrays take an optional dtype parameter\n",
        "# Let's set it to an 8 bit integer\n",
        "z = np.zeros(7, dtype=np.int8)\n",
        "z.dtype"
      ]
    },
    {
      "cell_type": "markdown",
      "metadata": {
        "id": "htJoBf0Px2bt"
      },
      "source": [
        "## Exercises\n",
        "\n",
        "Read section 2.2 of the book (The Basics of NumPy Arrays) and complete the tasks below.\n"
      ]
    },
    {
      "cell_type": "markdown",
      "metadata": {
        "id": "AmmexE4Px2bu"
      },
      "source": [
        "### Numpy Array Creation"
      ]
    },
    {
      "cell_type": "markdown",
      "metadata": {
        "id": "WzalLYiQx2bu"
      },
      "source": [
        "##### Convert a list into a numpy array"
      ]
    },
    {
      "cell_type": "code",
      "execution_count": null,
      "metadata": {
        "id": "xbRzd1a4x2bu",
        "outputId": "4889487d-89e7-4787-f259-5750cf08e3e7"
      },
      "outputs": [
        {
          "data": {
            "text/plain": [
              "[5, 3, 8, 4]"
            ]
          },
          "execution_count": 113,
          "metadata": {},
          "output_type": "execute_result"
        }
      ],
      "source": [
        "lst = [5, 3, 8, 4]\n",
        "lst"
      ]
    },
    {
      "cell_type": "code",
      "execution_count": null,
      "metadata": {
        "id": "R6cU_L6mx2bu"
      },
      "outputs": [],
      "source": [
        "# your code here\n",
        "x =\n",
        "x"
      ]
    },
    {
      "cell_type": "markdown",
      "metadata": {
        "id": "0qyuw4IVx2bu"
      },
      "source": [
        "#### What happens when you multiply a list by 3, what a about an array multiplied by 3?"
      ]
    },
    {
      "cell_type": "code",
      "execution_count": null,
      "metadata": {
        "id": "XnZ83I5Ix2bu"
      },
      "outputs": [],
      "source": [
        "# Feel free to add more cells\n"
      ]
    },
    {
      "cell_type": "markdown",
      "metadata": {
        "id": "i2BxvncXx2bu"
      },
      "source": [
        "#### Create an array of 10 ones [1, 1, 1, ... ]"
      ]
    },
    {
      "cell_type": "code",
      "execution_count": null,
      "metadata": {
        "colab": {
          "base_uri": "https://localhost:8080/"
        },
        "id": "Ko9OoG_xx2bu",
        "outputId": "b1704f01-74ec-4c85-920c-ffb249451da6"
      },
      "outputs": [
        {
          "data": {
            "text/plain": [
              "array([1., 1., 1., 1., 1., 1., 1., 1., 1., 1.])"
            ]
          },
          "execution_count": 9,
          "metadata": {},
          "output_type": "execute_result"
        }
      ],
      "source": [
        "np.ones(10)"
      ]
    },
    {
      "cell_type": "markdown",
      "metadata": {
        "id": "prrhd3n0x2bu"
      },
      "source": [
        "#### Create an array of 10 fives [5, 5, 5, .... ]"
      ]
    },
    {
      "cell_type": "code",
      "execution_count": null,
      "metadata": {
        "colab": {
          "base_uri": "https://localhost:8080/"
        },
        "id": "pKdC_xCRx2bu",
        "outputId": "34b6d4bc-b356-4677-992b-0eafae3b061d"
      },
      "outputs": [
        {
          "data": {
            "text/plain": [
              "array([5., 5., 5., 5., 5., 5., 5., 5., 5., 5.])"
            ]
          },
          "execution_count": 8,
          "metadata": {},
          "output_type": "execute_result"
        }
      ],
      "source": [
        "np.ones(10) * 5"
      ]
    },
    {
      "cell_type": "markdown",
      "metadata": {
        "id": "K-XpLQLex2bu"
      },
      "source": [
        "#### Create an array of the integers from 10 to 50 (including 50)"
      ]
    },
    {
      "cell_type": "code",
      "execution_count": null,
      "metadata": {
        "colab": {
          "base_uri": "https://localhost:8080/"
        },
        "id": "xSQd7J4Yx2bu",
        "outputId": "19ff11f2-7cbd-4bb1-8844-186a5c1fabab"
      },
      "outputs": [
        {
          "data": {
            "text/plain": [
              "array([10, 11, 12, 13, 14, 15, 16, 17, 18, 19, 20, 21, 22, 23, 24, 25, 26,\n",
              "       27, 28, 29, 30, 31, 32, 33, 34, 35, 36, 37, 38, 39, 40, 41, 42, 43,\n",
              "       44, 45, 46, 47, 48, 49, 50])"
            ]
          },
          "execution_count": 7,
          "metadata": {},
          "output_type": "execute_result"
        }
      ],
      "source": [
        "np.arange(10, 51)"
      ]
    },
    {
      "cell_type": "markdown",
      "metadata": {
        "id": "-4E3FZ5Yx2bu"
      },
      "source": [
        "#### Create an array of 10 random numbers between 0 and 5"
      ]
    },
    {
      "cell_type": "code",
      "execution_count": null,
      "metadata": {
        "colab": {
          "base_uri": "https://localhost:8080/"
        },
        "id": "YzOw6BDPx2bv",
        "outputId": "cb935436-63f5-4dba-d4e7-010aa9aaa3a8"
      },
      "outputs": [
        {
          "data": {
            "text/plain": [
              "array([4.1768665 , 1.07033279, 0.7846438 , 3.18405681, 1.27260556,\n",
              "       2.43195879, 4.63388763, 1.91023326, 1.03926283, 3.61216094])"
            ]
          },
          "execution_count": 6,
          "metadata": {},
          "output_type": "execute_result"
        }
      ],
      "source": []
    },
    {
      "cell_type": "markdown",
      "metadata": {
        "id": "HyLJTho5x2bv"
      },
      "source": [
        "#### Read the help for np.linspace function and create an array of 11 evenly spaced elements between 0 and 2\n",
        "use `np.linspace?` or `?np.linspace` to show the help"
      ]
    },
    {
      "cell_type": "code",
      "execution_count": null,
      "metadata": {
        "colab": {
          "base_uri": "https://localhost:8080/"
        },
        "id": "fZEJtLjox2bv",
        "outputId": "1fc92613-2bbd-4402-fad2-e17c95e03dc7"
      },
      "outputs": [
        {
          "data": {
            "text/plain": [
              "array([0. , 0.2, 0.4, 0.6, 0.8, 1. , 1.2, 1.4, 1.6, 1.8, 2. ])"
            ]
          },
          "execution_count": 5,
          "metadata": {},
          "output_type": "execute_result"
        }
      ],
      "source": [
        "np.linspace(0, 2, 11)"
      ]
    },
    {
      "cell_type": "markdown",
      "metadata": {
        "id": "xXg2M_ojx2bv"
      },
      "source": [
        "#### Create a 3 by 4 array of ones"
      ]
    },
    {
      "cell_type": "code",
      "execution_count": null,
      "metadata": {
        "colab": {
          "base_uri": "https://localhost:8080/"
        },
        "id": "cXLySfcCx2bv",
        "outputId": "88619e78-f312-4602-e4bd-b9ef3ee0b132"
      },
      "outputs": [
        {
          "data": {
            "text/plain": [
              "array([[1., 1., 1., 1.],\n",
              "       [1., 1., 1., 1.],\n",
              "       [1., 1., 1., 1.]])"
            ]
          },
          "execution_count": 19,
          "metadata": {},
          "output_type": "execute_result"
        }
      ],
      "source": [
        "np.ones((3, 4))"
      ]
    },
    {
      "cell_type": "markdown",
      "metadata": {
        "id": "hGiDCtrVx2bv"
      },
      "source": [
        "#### Create a 3 by 4 array of fives"
      ]
    },
    {
      "cell_type": "code",
      "execution_count": null,
      "metadata": {
        "colab": {
          "base_uri": "https://localhost:8080/"
        },
        "id": "Mhf28ve6x2b8",
        "outputId": "64dc9047-86dc-49d0-dd0d-262ff338abb2"
      },
      "outputs": [
        {
          "data": {
            "text/plain": [
              "array([[5., 5., 5., 5.],\n",
              "       [5., 5., 5., 5.],\n",
              "       [5., 5., 5., 5.]])"
            ]
          },
          "execution_count": 4,
          "metadata": {},
          "output_type": "execute_result"
        }
      ],
      "source": [
        "np.ones((3, 4)) * 5"
      ]
    },
    {
      "cell_type": "markdown",
      "metadata": {
        "id": "ALg29Fwqx2b8"
      },
      "source": [
        "### Array Indexing\n",
        "Using the following arrays `a` and `m` for the questions below"
      ]
    },
    {
      "cell_type": "code",
      "execution_count": null,
      "metadata": {
        "colab": {
          "base_uri": "https://localhost:8080/"
        },
        "id": "LGNywOflx2b9",
        "outputId": "db884009-53ea-426b-9705-1c88632c02e9"
      },
      "outputs": [
        {
          "data": {
            "text/plain": [
              "array([10, 11, 12, 13, 14, 15, 16, 17, 18, 19, 20])"
            ]
          },
          "execution_count": 22,
          "metadata": {},
          "output_type": "execute_result"
        }
      ],
      "source": [
        "a = np.arange(10,21)\n",
        "a"
      ]
    },
    {
      "cell_type": "code",
      "execution_count": null,
      "metadata": {
        "colab": {
          "base_uri": "https://localhost:8080/"
        },
        "id": "dlii-fb4x2b9",
        "outputId": "5586e143-d5a7-4b5d-b5de-da52d094ca6f"
      },
      "outputs": [
        {
          "data": {
            "text/plain": [
              "array([[ 1,  2,  3,  4,  5,  6,  7],\n",
              "       [ 8,  9, 10, 11, 12, 13, 14],\n",
              "       [15, 16, 17, 18, 19, 20, 21]])"
            ]
          },
          "execution_count": 20,
          "metadata": {},
          "output_type": "execute_result"
        }
      ],
      "source": [
        "m = np.arange(1,22).reshape((3,7))\n",
        "m"
      ]
    },
    {
      "cell_type": "markdown",
      "metadata": {
        "id": "ZLpo4MeFx2b9"
      },
      "source": [
        "### Create an array containing...\n",
        "#### the first 4 elements of a"
      ]
    },
    {
      "cell_type": "code",
      "execution_count": null,
      "metadata": {
        "colab": {
          "base_uri": "https://localhost:8080/"
        },
        "id": "lk8u5ZCEx2b9",
        "outputId": "e4d5c5ed-97e6-421c-8cf3-a91fa13de8a4"
      },
      "outputs": [
        {
          "data": {
            "text/plain": [
              "array([10, 11, 12, 13])"
            ]
          },
          "execution_count": 23,
          "metadata": {},
          "output_type": "execute_result"
        }
      ],
      "source": [
        "a[:4]"
      ]
    },
    {
      "cell_type": "markdown",
      "metadata": {
        "id": "yhqI6xCix2b9"
      },
      "source": [
        "#### the last 3 elements of a"
      ]
    },
    {
      "cell_type": "code",
      "execution_count": null,
      "metadata": {
        "colab": {
          "base_uri": "https://localhost:8080/"
        },
        "id": "Loz0viM2x2b9",
        "outputId": "f0036f75-595d-4076-dd16-a16caa689e6d"
      },
      "outputs": [
        {
          "data": {
            "text/plain": [
              "array([18, 19, 20])"
            ]
          },
          "execution_count": 24,
          "metadata": {},
          "output_type": "execute_result"
        }
      ],
      "source": [
        "a[-3:]"
      ]
    },
    {
      "cell_type": "markdown",
      "metadata": {
        "id": "Vo3Y4-HPx2b9"
      },
      "source": [
        "#### The middle elements of a from 15 to 18 inclusive"
      ]
    },
    {
      "cell_type": "code",
      "execution_count": null,
      "metadata": {
        "colab": {
          "base_uri": "https://localhost:8080/"
        },
        "id": "Gc-eQSuAx2b9",
        "outputId": "ee417cc4-63a9-4e32-8e13-36c660622408"
      },
      "outputs": [
        {
          "data": {
            "text/plain": [
              "array([15, 16, 17, 18])"
            ]
          },
          "execution_count": 25,
          "metadata": {},
          "output_type": "execute_result"
        }
      ],
      "source": [
        "a[(a >= 15) & (a <= 18)]"
      ]
    },
    {
      "cell_type": "markdown",
      "metadata": {
        "id": "ZMAKK5exx2b9"
      },
      "source": [
        "#### The first column of m"
      ]
    },
    {
      "cell_type": "code",
      "execution_count": null,
      "metadata": {
        "colab": {
          "base_uri": "https://localhost:8080/"
        },
        "id": "f_KjiGTsx2b9",
        "outputId": "6e98d109-3e05-489d-bc51-d2e66cd0be6d"
      },
      "outputs": [
        {
          "data": {
            "text/plain": [
              "array([ 1,  8, 15])"
            ]
          },
          "execution_count": 21,
          "metadata": {},
          "output_type": "execute_result"
        }
      ],
      "source": [
        "m[:, 0]"
      ]
    },
    {
      "cell_type": "markdown",
      "metadata": {
        "id": "6Pa2auGmx2b-"
      },
      "source": [
        "#### The middle row of m"
      ]
    },
    {
      "cell_type": "code",
      "execution_count": null,
      "metadata": {
        "colab": {
          "base_uri": "https://localhost:8080/"
        },
        "id": "AD8_J5yXx2b-",
        "outputId": "99f9654a-14f5-40c2-fdaa-822b6174be7d"
      },
      "outputs": [
        {
          "data": {
            "text/plain": [
              "array([ 8,  9, 10, 11, 12, 13, 14])"
            ]
          },
          "execution_count": 26,
          "metadata": {},
          "output_type": "execute_result"
        }
      ],
      "source": [
        "m[1,:]"
      ]
    },
    {
      "cell_type": "markdown",
      "metadata": {
        "id": "s9yRKbBCx2b-"
      },
      "source": [
        "#### The left 3 columns of m"
      ]
    },
    {
      "cell_type": "code",
      "execution_count": null,
      "metadata": {
        "colab": {
          "base_uri": "https://localhost:8080/"
        },
        "id": "efI267-Xx2b-",
        "outputId": "2532f87d-b4ce-4a5e-df8b-7438300da53e"
      },
      "outputs": [
        {
          "data": {
            "text/plain": [
              "array([[ 5,  6,  7],\n",
              "       [12, 13, 14],\n",
              "       [19, 20, 21]])"
            ]
          },
          "execution_count": 27,
          "metadata": {},
          "output_type": "execute_result"
        }
      ],
      "source": [
        "m[:,-3:]"
      ]
    },
    {
      "cell_type": "markdown",
      "metadata": {
        "id": "xi9frNM5x2b-"
      },
      "source": [
        "#### The bottom-right 2 by 2 square"
      ]
    },
    {
      "cell_type": "code",
      "execution_count": null,
      "metadata": {
        "colab": {
          "base_uri": "https://localhost:8080/"
        },
        "id": "7VAS_yjvx2b-",
        "outputId": "6b3b8f50-4bd4-4aa0-8338-af638f236e9a"
      },
      "outputs": [
        {
          "data": {
            "text/plain": [
              "array([13, 20])"
            ]
          },
          "execution_count": 16,
          "metadata": {},
          "output_type": "execute_result"
        }
      ],
      "source": [
        "m[1:,-2]"
      ]
    },
    {
      "cell_type": "markdown",
      "metadata": {
        "id": "LvKxM40zx2b-"
      },
      "source": [
        "#### Print every other element of a\n",
        "Hint: use slicing with a step (`array[start:stop:step]`)"
      ]
    },
    {
      "cell_type": "code",
      "execution_count": null,
      "metadata": {
        "colab": {
          "base_uri": "https://localhost:8080/"
        },
        "id": "4mfzxUCYx2b-",
        "outputId": "c0bf8026-1d5d-45a3-e39e-437d1ba925f6"
      },
      "outputs": [
        {
          "data": {
            "text/plain": [
              "array([10, 12, 14, 16, 18, 20])"
            ]
          },
          "execution_count": 17,
          "metadata": {},
          "output_type": "execute_result"
        }
      ],
      "source": [
        "a[::2]"
      ]
    },
    {
      "cell_type": "markdown",
      "metadata": {
        "id": "AbAnLTuMx2b-"
      },
      "source": [
        "#### Print the `even` elements of a\n",
        "Hint: use boolean indexing"
      ]
    },
    {
      "cell_type": "code",
      "execution_count": null,
      "metadata": {
        "colab": {
          "base_uri": "https://localhost:8080/"
        },
        "id": "DYuHf1YPx2b-",
        "outputId": "aa2519e7-b931-49de-e315-7be7a4b8e054"
      },
      "outputs": [
        {
          "data": {
            "text/plain": [
              "array([ True, False,  True, False,  True, False,  True, False,  True,\n",
              "       False,  True])"
            ]
          },
          "execution_count": 18,
          "metadata": {},
          "output_type": "execute_result"
        }
      ],
      "source": [
        "mask=a%2==0\n",
        "mask"
      ]
    },
    {
      "cell_type": "code",
      "execution_count": null,
      "metadata": {
        "id": "4QXgnPJr8RZg"
      },
      "outputs": [],
      "source": [
        "a[mask]"
      ]
    },
    {
      "cell_type": "markdown",
      "metadata": {
        "id": "9z6s8kvyx2b-"
      },
      "source": [
        "### Array Math"
      ]
    },
    {
      "cell_type": "markdown",
      "metadata": {
        "id": "Zu-wLtDNx2b-"
      },
      "source": [
        "#### Subtract 5 from each element of a"
      ]
    },
    {
      "cell_type": "code",
      "execution_count": null,
      "metadata": {
        "id": "4c91d522"
      },
      "outputs": [],
      "source": [
        "a = np.arange(10,21)"
      ]
    },
    {
      "cell_type": "code",
      "execution_count": null,
      "metadata": {
        "colab": {
          "base_uri": "https://localhost:8080/",
          "height": 35
        },
        "id": "iw8PqJ9Wx2b-",
        "outputId": "87b3a009-6351-4183-891d-c70b6f0a1de2"
      },
      "outputs": [
        {
          "data": {
            "text/plain": [
              "array([ 5,  6,  7,  8,  9, 10, 11, 12, 13, 14, 15])"
            ]
          },
          "metadata": {},
          "output_type": "display_data"
        }
      ],
      "source": [
        "display(a - 5)"
      ]
    },
    {
      "cell_type": "markdown",
      "metadata": {
        "id": "LI5WkBtKx2b-"
      },
      "source": [
        "#### Calculate the `sum` of all the elements in a"
      ]
    },
    {
      "cell_type": "code",
      "execution_count": null,
      "metadata": {
        "colab": {
          "base_uri": "https://localhost:8080/",
          "height": 35
        },
        "id": "CY-Vxs_Hx2b_",
        "outputId": "9f14b0c7-f08b-4f6a-c32f-bc1a22abf6e0"
      },
      "outputs": [
        {
          "data": {
            "text/plain": [
              "np.int64(165)"
            ]
          },
          "metadata": {},
          "output_type": "display_data"
        }
      ],
      "source": [
        "display(a.sum())"
      ]
    },
    {
      "cell_type": "markdown",
      "metadata": {
        "id": "jVbAUVUYx2b_"
      },
      "source": [
        "#### Calculate the sum of each column and each row in `m`\n",
        "Hint: use the `axis` argument of the `sum` method"
      ]
    },
    {
      "cell_type": "code",
      "execution_count": null,
      "metadata": {
        "colab": {
          "base_uri": "https://localhost:8080/",
          "height": 53
        },
        "id": "owaoATrTx2b_",
        "outputId": "1ee65bf1-9645-4620-8baa-7698e6b46044"
      },
      "outputs": [
        {
          "data": {
            "text/plain": [
              "array([24, 27, 30, 33, 36, 39, 42])"
            ]
          },
          "metadata": {},
          "output_type": "display_data"
        },
        {
          "data": {
            "text/plain": [
              "array([ 28,  77, 126])"
            ]
          },
          "metadata": {},
          "output_type": "display_data"
        }
      ],
      "source": [
        "display(m.sum(axis=0)) # sum of columns\n",
        "display(m.sum(axis=1)) # sum of rows"
      ]
    },
    {
      "cell_type": "markdown",
      "metadata": {
        "id": "x6st7y1px2b_"
      },
      "source": [
        "#### Create an array containing squares of all numbers from 1 to 10 (inclusive)"
      ]
    },
    {
      "cell_type": "code",
      "execution_count": null,
      "metadata": {
        "colab": {
          "base_uri": "https://localhost:8080/",
          "height": 35
        },
        "id": "CtYGELJUx2b_",
        "outputId": "794b3fe1-02ac-48dd-90a0-512de4d5927b"
      },
      "outputs": [
        {
          "data": {
            "text/plain": [
              "array([  1,   4,   9,  16,  25,  36,  49,  64,  81, 100])"
            ]
          },
          "metadata": {},
          "output_type": "display_data"
        }
      ],
      "source": [
        "display(np.arange(1, 11)**2)"
      ]
    },
    {
      "cell_type": "markdown",
      "metadata": {
        "id": "ufm5arZ-x2b_"
      },
      "source": [
        "#### Create an array containing all powers of 2 from $2^0$ to $2^{10}$ (inclusive)"
      ]
    },
    {
      "cell_type": "code",
      "execution_count": null,
      "metadata": {
        "colab": {
          "base_uri": "https://localhost:8080/",
          "height": 35
        },
        "id": "Hv1zGONcx2b_",
        "outputId": "43b7926c-587e-4dc3-c02a-f4af5a0547f3"
      },
      "outputs": [
        {
          "data": {
            "text/plain": [
              "array([   1,    2,    4,    8,   16,   32,   64,  128,  256,  512, 1024])"
            ]
          },
          "metadata": {},
          "output_type": "display_data"
        }
      ],
      "source": [
        "display(2**np.arange(11))"
      ]
    },
    {
      "cell_type": "markdown",
      "metadata": {
        "id": "yd7_xM7-x2b_"
      },
      "source": [
        "#### Same as above (powers of two), but subtract one from each element, that is $a_k = 2^k - 1$"
      ]
    },
    {
      "cell_type": "code",
      "execution_count": null,
      "metadata": {
        "colab": {
          "base_uri": "https://localhost:8080/",
          "height": 35
        },
        "id": "K4fluROsx2b_",
        "outputId": "1fc0ea1d-30d0-4a4a-bbb9-54065fec5da0"
      },
      "outputs": [
        {
          "data": {
            "text/plain": [
              "array([   0,    1,    3,    7,   15,   31,   63,  127,  255,  511, 1023])"
            ]
          },
          "metadata": {},
          "output_type": "display_data"
        }
      ],
      "source": [
        "display(2**np.arange(11) - 1)"
      ]
    },
    {
      "cell_type": "markdown",
      "metadata": {
        "id": "vhcDQXBgx2b_"
      },
      "source": [
        "## Plotting Basics\n",
        " - Use [this tutorial](https://matplotlib.org/users/pyplot_tutorial.html) as reference when (if) you get stuck\n",
        " - Execute the cells with imports, otherwise you won't have numpy and matplotlib imported and Python will complain"
      ]
    },
    {
      "cell_type": "code",
      "execution_count": 26,
      "metadata": {
        "id": "SBX-Rs6yx2b_"
      },
      "outputs": [],
      "source": [
        "import numpy as np\n",
        "import matplotlib.pyplot as plt"
      ]
    },
    {
      "cell_type": "code",
      "execution_count": 27,
      "metadata": {
        "id": "hZKCsir1x2b_"
      },
      "outputs": [],
      "source": [
        "# Load weather data (take a look at that CSV file on GitHub or via Excel and note column names)\n",
        "weather = np.loadtxt(\"OshawaWeather2016.csv\", skiprows=1, delimiter=',')"
      ]
    },
    {
      "cell_type": "code",
      "execution_count": 28,
      "metadata": {
        "colab": {
          "base_uri": "https://localhost:8080/"
        },
        "id": "o6Y9l69hx2b_",
        "outputId": "9cebf048-4ced-4a5a-941f-d7c275ba346e"
      },
      "outputs": [
        {
          "data": {
            "text/plain": [
              "(349, 5)"
            ]
          },
          "execution_count": 28,
          "metadata": {},
          "output_type": "execute_result"
        }
      ],
      "source": [
        "weather.shape"
      ]
    },
    {
      "cell_type": "code",
      "execution_count": 29,
      "metadata": {
        "colab": {
          "base_uri": "https://localhost:8080/"
        },
        "id": "-DZ3QZqqx2cA",
        "outputId": "293f3ecb-1b2d-4eea-e4b7-cd33dfb46dc0"
      },
      "outputs": [
        {
          "data": {
            "text/plain": [
              "dtype('float64')"
            ]
          },
          "execution_count": 29,
          "metadata": {},
          "output_type": "execute_result"
        }
      ],
      "source": [
        "weather.dtype"
      ]
    },
    {
      "cell_type": "markdown",
      "metadata": {
        "id": "_5nneDm5x2cA"
      },
      "source": [
        "#### Crate separate 1D arrays for each column (e.g: day, maxt, mint and so on)"
      ]
    },
    {
      "cell_type": "code",
      "execution_count": 30,
      "metadata": {
        "id": "iEhoZkhVx2cA"
      },
      "outputs": [],
      "source": [
        "# your code here\n",
        "# column name in csv file: Day,Max Temp (°C),Min Temp (°C),Mean Temp (°C),Total Precip (mm)\n",
        "day = weather[:, 0]\n",
        "maxt = weather[:, 1]\n",
        "mint = weather[:, 2]\n",
        "meant = weather[:, 3]\n",
        "precip = weather[:, 4]"
      ]
    },
    {
      "cell_type": "markdown",
      "metadata": {
        "id": "4nDepxHWx2cA"
      },
      "source": [
        "#### Plot the minimum temperature as a function of day number"
      ]
    },
    {
      "cell_type": "code",
      "execution_count": 31,
      "metadata": {
        "colab": {
          "base_uri": "https://localhost:8080/",
          "height": 472
        },
        "id": "AaU9k-rXx2cA",
        "outputId": "d49aac84-4947-4a68-937a-a1c266b55911"
      },
      "outputs": [
        {
          "data": {
            "image/png": "[encoded data removed]",
            "text/plain": [
              "<Figure size 640x480 with 1 Axes>"
            ]
          },
          "metadata": {},
          "output_type": "display_data"
        }
      ],
      "source": [
        "plt.plot(day, mint)\n",
        "plt.xlabel(\"Day\")\n",
        "plt.ylabel(\"Minimum Temperature (°C)\")\n",
        "plt.title(\"Minimum Temperature as a Function of Day Number\")\n",
        "plt.show()"
      ]
    },
    {
      "cell_type": "markdown",
      "metadata": {
        "id": "PGAqiGlax2cA"
      },
      "source": [
        "#### Plot the max temperature in degrees Fahrenheit"
      ]
    },
    {
      "cell_type": "code",
      "execution_count": 33,
      "metadata": {
        "colab": {
          "base_uri": "https://localhost:8080/",
          "height": 472
        },
        "id": "ve6dK0hVx2cA",
        "outputId": "de7477d6-9451-4c3c-cb1f-d6f4bf887d14"
      },
      "outputs": [
        {
          "data": {
            "image/png": "[encoded data removed]",
            "text/plain": [
              "<Figure size 640x480 with 1 Axes>"
            ]
          },
          "metadata": {},
          "output_type": "display_data"
        }
      ],
      "source": [
        "maxt_f = maxt * 9/5 + 32\n",
        "plt.plot(day, maxt_f)\n",
        "plt.xlabel(\"Day\")\n",
        "plt.ylabel(\"Maximum Temperature (°F)\")\n",
        "plt.title(\"Maximum Temperature as a Function of Day Number (Fahrenheit)\")\n",
        "plt.show()"
      ]
    },
    {
      "cell_type": "markdown",
      "metadata": {
        "id": "rSzVKDK9x2cA"
      },
      "source": [
        "#### Plot the difference between the maximum and the minimum day temperature as a function of day number"
      ]
    },
    {
      "cell_type": "code",
      "execution_count": 32,
      "metadata": {
        "colab": {
          "base_uri": "https://localhost:8080/",
          "height": 472
        },
        "id": "m2ouMpfFx2cA",
        "outputId": "a3a00d96-2e03-4d87-80ac-538a8c3e4f42"
      },
      "outputs": [
        {
          "data": {
            "image/png": "[encoded data removed]",
            "text/plain": [
              "<Figure size 640x480 with 1 Axes>"
            ]
          },
          "metadata": {},
          "output_type": "display_data"
        }
      ],
      "source": [
        "temp_diff = maxt - mint\n",
        "plt.plot(day, temp_diff)\n",
        "plt.xlabel(\"Day\")\n",
        "plt.ylabel(\"Temperature Difference (°C)\")\n",
        "plt.title(\"Difference between Max and Min Temperature as a Function of Day Number\")\n",
        "plt.show()"
      ]
    },
    {
      "cell_type": "markdown",
      "metadata": {
        "id": "Xv5laZcyx2cA"
      },
      "source": [
        "#### Plot both, the minimum and maximum temperature on the same figure"
      ]
    },
    {
      "cell_type": "code",
      "execution_count": 34,
      "metadata": {
        "colab": {
          "base_uri": "https://localhost:8080/",
          "height": 430
        },
        "id": "Lk6rIEq-x2cA",
        "outputId": "e57397d6-a399-45a6-f567-0e60eccebd6b"
      },
      "outputs": [
        {
          "data": {
            "image/png": "[encoded data removed]",
            "text/plain": [
              "<Figure size 640x480 with 1 Axes>"
            ]
          },
          "metadata": {},
          "output_type": "display_data"
        }
      ],
      "source": [
        "plt.plot(day, mint)\n",
        "plt.plot(day, maxt)\n",
        "plt.show()"
      ]
    },
    {
      "cell_type": "markdown",
      "metadata": {
        "id": "6BS0eZUGx2cA"
      },
      "source": [
        "#### Add axis labels and a legend to the plot above\n",
        "Use the following functions:\n",
        " - plt.xlabel\n",
        " - plt.ylabel\n",
        " - plt.title\n",
        " - plt.legend"
      ]
    },
    {
      "cell_type": "markdown",
      "metadata": {
        "id": "xhgxWt8ux2cB"
      },
      "source": [
        "#### Read about plt.hist() function and plot a histogram of the maximum temperatures"
      ]
    },
    {
      "cell_type": "code",
      "execution_count": 35,
      "metadata": {
        "colab": {
          "base_uri": "https://localhost:8080/",
          "height": 472
        },
        "id": "68tRkOEQx2cB",
        "outputId": "bfa0273e-9882-4366-88b0-654d9f8df7e6"
      },
      "outputs": [
        {
          "data": {
            "image/png": "[encoded data removed]",
            "text/plain": [
              "<Figure size 640x480 with 1 Axes>"
            ]
          },
          "metadata": {},
          "output_type": "display_data"
        }
      ],
      "source": [
        "plt.hist(maxt)\n",
        "plt.xlabel(\"Maximum Temperature (°C)\")\n",
        "plt.ylabel(\"Frequency\")\n",
        "plt.title(\"Histogram of Maximum Temperatures\")\n",
        "plt.show()"
      ]
    },
    {
      "cell_type": "markdown",
      "metadata": {
        "id": "Y2Zu7OiRx2cB"
      },
      "source": [
        "#### Plot a histogram of the differences between the min and max temperature"
      ]
    },
    {
      "cell_type": "code",
      "execution_count": 36,
      "metadata": {
        "colab": {
          "base_uri": "https://localhost:8080/",
          "height": 472
        },
        "id": "LrioMLs1x2cB",
        "outputId": "4261071d-9c4b-4f64-dbd9-7445948d453e"
      },
      "outputs": [
        {
          "data": {
            "image/png": "[encoded data removed]",
            "text/plain": [
              "<Figure size 640x480 with 1 Axes>"
            ]
          },
          "metadata": {},
          "output_type": "display_data"
        }
      ],
      "source": [
        "temp_diff = maxt - mint\n",
        "plt.hist(temp_diff)\n",
        "plt.xlabel(\"Temperature Difference (°C)\")\n",
        "plt.ylabel(\"Frequency\")\n",
        "plt.title(\"Histogram of Temperature Differences\")\n",
        "plt.show()"
      ]
    },
    {
      "cell_type": "markdown",
      "metadata": {
        "id": "qQOMaWX0x2cB"
      },
      "source": [
        "#### For each day calculate the average of the 3 temperatures in the data (min max and avg)\n"
      ]
    },
    {
      "cell_type": "code",
      "execution_count": 37,
      "metadata": {
        "colab": {
          "base_uri": "https://localhost:8080/",
          "height": 1000
        },
        "id": "8_hs0poqx2cB",
        "outputId": "ce6f22cd-af0c-4a63-d352-08037dc55e1c"
      },
      "outputs": [
        {
          "data": {
            "text/plain": [
              "array([ -1.        ,  -1.        ,   0.        ,   0.        ,\n",
              "        -8.5       ,  -2.26666667,  -1.        ,   1.5       ,\n",
              "         4.5       ,   6.        ,  -4.76666667,  -4.5       ,\n",
              "        -8.        ,  -4.26666667,   0.5       ,   1.76666667,\n",
              "        -1.5       ,  -9.5       ,  -9.        ,  -3.76666667,\n",
              "        -4.5       ,  -6.        ,  -8.5       ,  -5.        ,\n",
              "         1.76666667,   4.        ,  -0.5       ,   0.5       ,\n",
              "        -4.5       ,  -1.5       ,   3.        ,   5.5       ,\n",
              "         3.26666667,   6.26666667,   2.76666667,  -1.26666667,\n",
              "         1.26666667,   1.        ,   1.5       ,  -2.        ,\n",
              "        -3.        ,  -5.5       ,  -8.        , -22.5       ,\n",
              "       -14.5       ,  -7.        ,  -2.5       ,  -9.5       ,\n",
              "        -1.76666667,   7.5       ,   4.5       ,  -2.26666667,\n",
              "        -3.        ,   0.26666667,   0.        ,   5.76666667,\n",
              "        -7.76666667,  -8.26666667,  -4.26666667,  -1.5       ,\n",
              "         2.26666667,   5.26666667,   5.5       ,   8.        ,\n",
              "         9.5       ,   4.5       ,   4.5       ,   6.26666667,\n",
              "         8.        ,   7.5       ,   4.26666667,   4.26666667,\n",
              "        -3.26666667,  -2.26666667,  -0.5       ,  -0.76666667,\n",
              "         3.5       ,   0.        ,  -1.        ,  -1.26666667,\n",
              "         4.        ,   6.5       ,   3.        ,   2.26666667,\n",
              "         9.        ,   9.26666667,   2.        ,  -4.        ,\n",
              "        -3.        ,  -4.        ,   2.26666667,   4.26666667,\n",
              "         0.        ,  -2.26666667,  -2.        ,   3.5       ,\n",
              "         4.        ,   0.76666667,   4.76666667,   7.76666667,\n",
              "         8.        ,  10.26666667,  12.5       ,  11.        ,\n",
              "         7.        ,   8.5       ,  12.76666667,  10.5       ,\n",
              "         4.26666667,   7.        ,   8.5       ,   8.76666667,\n",
              "         6.76666667,   8.76666667,  13.5       ,  11.76666667,\n",
              "        12.5       ,   8.76666667,   7.5       ,  10.26666667,\n",
              "        11.76666667,  13.5       ,  16.5       ,  11.        ,\n",
              "         5.5       ,   9.5       ,  15.76666667,  17.76666667,\n",
              "        17.5       ,  17.5       ,  18.26666667,  18.5       ,\n",
              "        20.76666667,  20.5       ,  22.        ,  22.5       ,\n",
              "        19.5       ,  14.76666667,  19.26666667,  18.76666667,\n",
              "        18.26666667,  18.26666667,  19.        ,  16.76666667,\n",
              "        12.76666667,  13.5       ,  14.        ,  20.76666667,\n",
              "        17.26666667,  15.5       ,  13.76666667,  16.26666667,\n",
              "        21.        ,  21.26666667,  20.        ,  21.5       ,\n",
              "        23.76666667,  19.        ,  19.5       ,  16.5       ,\n",
              "        18.        ,  19.5       ,  22.        ,  25.26666667,\n",
              "        21.        ,  17.5       ,  19.        ,  17.76666667,\n",
              "        19.5       ,  22.5       ,  22.5       ,  25.        ,\n",
              "        23.76666667,  23.        ,  21.76666667,  20.5       ,\n",
              "        22.        ,  24.26666667,  23.5       ,  21.5       ,\n",
              "        18.        ,  18.5       ,  25.76666667,  20.        ,\n",
              "        18.        ,  21.5       ,  28.5       ,  26.76666667,\n",
              "        23.        ,  26.        ,  22.76666667,  22.5       ,\n",
              "        24.        ,  22.5       ,  21.5       ,  22.5       ,\n",
              "        23.        ,  21.76666667,  21.76666667,  23.5       ,\n",
              "        26.76666667,  24.26666667,  22.26666667,  22.76666667,\n",
              "        21.76666667,  26.        ,  25.5       ,  28.26666667,\n",
              "        24.26666667,  24.26666667,  20.5       ,  24.        ,\n",
              "        19.5       ,  23.76666667,  21.5       ,  24.76666667,\n",
              "        24.5       ,  18.        ,  18.5       ,  21.        ,\n",
              "        25.        ,  23.26666667,  20.26666667,  26.        ,\n",
              "        21.5       ,  21.        ,  23.76666667,  18.5       ,\n",
              "        19.        ,  17.5       ,  17.        ,  19.5       ,\n",
              "        22.        ,  25.        ,  26.        ,  23.26666667,\n",
              "        22.5       ,  19.76666667,  16.26666667,  19.26666667,\n",
              "        19.        ,  14.26666667,  15.76666667,  19.        ,\n",
              "        20.5       ,  19.26666667,  21.26666667,  18.26666667,\n",
              "        19.76666667,  15.26666667,  13.76666667,  11.5       ,\n",
              "        14.26666667,  14.26666667,  17.        ,  15.5       ,\n",
              "        16.76666667,  16.26666667,  17.76666667,  16.5       ,\n",
              "        16.26666667,  16.        ,  17.26666667,  17.        ,\n",
              "        17.        ,  10.        ,   6.76666667,  10.        ,\n",
              "        12.5       ,  15.5       ,   9.5       ,  12.        ,\n",
              "        17.26666667,  17.        ,  18.26666667,  14.5       ,\n",
              "        13.        ,   9.5       ,   6.5       ,   8.76666667,\n",
              "         7.5       ,   5.5       ,   1.76666667,   3.26666667,\n",
              "         7.        ,  12.26666667,   7.5       ,   4.        ,\n",
              "         8.        ,  15.        ,  11.76666667,   7.26666667,\n",
              "        10.26666667,   7.        ,   7.76666667,   8.26666667,\n",
              "         7.5       ,   9.        ,   5.76666667,   2.76666667,\n",
              "         6.5       ,   8.5       ,   5.5       ,   7.        ,\n",
              "         6.        ,   9.5       ,   9.5       ,   0.        ,\n",
              "        -0.26666667,   0.76666667,  -2.26666667,   1.26666667,\n",
              "         4.5       ,   6.        ,   5.        ,   5.26666667,\n",
              "         9.26666667,   7.        ,   6.        ,   4.        ,\n",
              "         2.5       ,  -0.5       ,   3.        ,   1.76666667,\n",
              "         3.        ,   0.5       ,  -4.        ,  -4.        ,\n",
              "        -2.5       ,   1.        ,  -0.5       ,  -5.76666667,\n",
              "        -9.76666667,  -8.26666667,  -3.26666667,  -3.76666667,\n",
              "        -7.26666667,  -3.5       ,  -0.26666667,   1.76666667,\n",
              "         1.26666667,   3.        ,   1.        ,   1.5       ,\n",
              "         1.        ,  -0.5       ,   1.        ,  -0.5       ,\n",
              "         0.76666667])"
            ]
          },
          "metadata": {},
          "output_type": "display_data"
        }
      ],
      "source": [
        "avg_temp = (mint + maxt + meant) / 3\n",
        "display(avg_temp)"
      ]
    },
    {
      "cell_type": "markdown",
      "metadata": {
        "id": "lWMhI0Lxx2cB"
      },
      "source": [
        "#### Calculate the total amount of precipitation for the whole year\n",
        "Does the number seem reasonable? The annual average precipitation in Toronto is 831 mm according to https://en.wikipedia.org/wiki/Geography_of_Toronto"
      ]
    },
    {
      "cell_type": "code",
      "execution_count": 38,
      "metadata": {
        "colab": {
          "base_uri": "https://localhost:8080/",
          "height": 35
        },
        "id": "MFoJhXsvx2cB",
        "outputId": "71b70eaf-e607-443d-9c6b-22054611f8ac"
      },
      "outputs": [
        {
          "data": {
            "text/plain": [
              "np.float64(662.8000000000001)"
            ]
          },
          "metadata": {},
          "output_type": "display_data"
        }
      ],
      "source": [
        "total_precip = precip.sum()\n",
        "display(total_precip)"
      ]
    },
    {
      "cell_type": "markdown",
      "metadata": {
        "id": "w-JiPx9ix2cB"
      },
      "source": [
        "#### Calculate the total precipitation on all odd numbered days (day 1, 3, 5 and so on)"
      ]
    },
    {
      "cell_type": "code",
      "execution_count": 39,
      "metadata": {
        "colab": {
          "base_uri": "https://localhost:8080/",
          "height": 35
        },
        "id": "qGR8el4fx2cB",
        "outputId": "2f0a7935-ccdc-4f4e-bb97-ebedef8834d4"
      },
      "outputs": [
        {
          "data": {
            "text/plain": [
              "np.float64(291.40000000000003)"
            ]
          },
          "metadata": {},
          "output_type": "display_data"
        }
      ],
      "source": [
        "odd_days_precip = precip[day % 2 != 0].sum()\n",
        "display(odd_days_precip)"
      ]
    }
  ],
  "metadata": {
    "colab": {
      "include_colab_link": true,
      "provenance": []
    },
    "kernelspec": {
      "display_name": "Python 3",
      "language": "python",
      "name": "python3"
    },
    "language_info": {
      "codemirror_mode": {
        "name": "ipython",
        "version": 3
      },
      "file_extension": ".py",
      "mimetype": "text/x-python",
      "name": "python",
      "nbconvert_exporter": "python",
      "pygments_lexer": "ipython3",
      "version": "3.13.1"
    }
  },
  "nbformat": 4,
  "nbformat_minor": 0
}
