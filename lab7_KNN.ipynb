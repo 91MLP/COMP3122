{
  "cells": [
    {
      "cell_type": "markdown",
      "metadata": {
        "id": "view-in-github",
        "colab_type": "text"
      },
      "source": [
        "<a href=\"https://colab.research.google.com/github/91MLP/COMP3122/blob/main/lab7_KNN.ipynb\" target=\"_parent\"><img src=\"https://colab.research.google.com/assets/colab-badge.svg\" alt=\"Open In Colab\"/></a>"
      ]
    },
    {
      "cell_type": "markdown",
      "metadata": {
        "id": "THjlWpjipFf5"
      },
      "source": [
        "# Imports"
      ]
    },
    {
      "cell_type": "code",
      "execution_count": 1,
      "metadata": {
        "id": "ig231xvdpFf7"
      },
      "outputs": [],
      "source": [
        "import numpy as np\n",
        "import matplotlib.pyplot as plt\n",
        "from sklearn import datasets\n",
        "from sklearn.model_selection import train_test_split\n",
        "from sklearn.neighbors import KNeighborsClassifier\n",
        "from sklearn.tree import DecisionTreeClassifier\n",
        "from sklearn.metrics import accuracy_score\n",
        "import pandas as pd"
      ]
    },
    {
      "cell_type": "markdown",
      "metadata": {
        "id": "Oef8yad8pFf8"
      },
      "source": [
        "# Load IRIS dataset"
      ]
    },
    {
      "cell_type": "code",
      "execution_count": 2,
      "metadata": {
        "id": "6wkqmRtrpFf8"
      },
      "outputs": [],
      "source": [
        "iris = datasets.load_iris()"
      ]
    },
    {
      "cell_type": "code",
      "execution_count": 3,
      "metadata": {
        "colab": {
          "base_uri": "https://localhost:8080/"
        },
        "id": "fI0AxcU2pFf8",
        "outputId": "4101a683-3ef8-478f-906b-32f64ea09b6e"
      },
      "outputs": [
        {
          "output_type": "stream",
          "name": "stdout",
          "text": [
            "{'data': array([[5.1, 3.5, 1.4, 0.2],\n",
            "       [4.9, 3. , 1.4, 0.2],\n",
            "       [4.7, 3.2, 1.3, 0.2],\n",
            "       [4.6, 3.1, 1.5, 0.2],\n",
            "       [5. , 3.6, 1.4, 0.2],\n",
            "       [5.4, 3.9, 1.7, 0.4],\n",
            "       [4.6, 3.4, 1.4, 0.3],\n",
            "       [5. , 3.4, 1.5, 0.2],\n",
            "       [4.4, 2.9, 1.4, 0.2],\n",
            "       [4.9, 3.1, 1.5, 0.1],\n",
            "       [5.4, 3.7, 1.5, 0.2],\n",
            "       [4.8, 3.4, 1.6, 0.2],\n",
            "       [4.8, 3. , 1.4, 0.1],\n",
            "       [4.3, 3. , 1.1, 0.1],\n",
            "       [5.8, 4. , 1.2, 0.2],\n",
            "       [5.7, 4.4, 1.5, 0.4],\n",
            "       [5.4, 3.9, 1.3, 0.4],\n",
            "       [5.1, 3.5, 1.4, 0.3],\n",
            "       [5.7, 3.8, 1.7, 0.3],\n",
            "       [5.1, 3.8, 1.5, 0.3],\n",
            "       [5.4, 3.4, 1.7, 0.2],\n",
            "       [5.1, 3.7, 1.5, 0.4],\n",
            "       [4.6, 3.6, 1. , 0.2],\n",
            "       [5.1, 3.3, 1.7, 0.5],\n",
            "       [4.8, 3.4, 1.9, 0.2],\n",
            "       [5. , 3. , 1.6, 0.2],\n",
            "       [5. , 3.4, 1.6, 0.4],\n",
            "       [5.2, 3.5, 1.5, 0.2],\n",
            "       [5.2, 3.4, 1.4, 0.2],\n",
            "       [4.7, 3.2, 1.6, 0.2],\n",
            "       [4.8, 3.1, 1.6, 0.2],\n",
            "       [5.4, 3.4, 1.5, 0.4],\n",
            "       [5.2, 4.1, 1.5, 0.1],\n",
            "       [5.5, 4.2, 1.4, 0.2],\n",
            "       [4.9, 3.1, 1.5, 0.2],\n",
            "       [5. , 3.2, 1.2, 0.2],\n",
            "       [5.5, 3.5, 1.3, 0.2],\n",
            "       [4.9, 3.6, 1.4, 0.1],\n",
            "       [4.4, 3. , 1.3, 0.2],\n",
            "       [5.1, 3.4, 1.5, 0.2],\n",
            "       [5. , 3.5, 1.3, 0.3],\n",
            "       [4.5, 2.3, 1.3, 0.3],\n",
            "       [4.4, 3.2, 1.3, 0.2],\n",
            "       [5. , 3.5, 1.6, 0.6],\n",
            "       [5.1, 3.8, 1.9, 0.4],\n",
            "       [4.8, 3. , 1.4, 0.3],\n",
            "       [5.1, 3.8, 1.6, 0.2],\n",
            "       [4.6, 3.2, 1.4, 0.2],\n",
            "       [5.3, 3.7, 1.5, 0.2],\n",
            "       [5. , 3.3, 1.4, 0.2],\n",
            "       [7. , 3.2, 4.7, 1.4],\n",
            "       [6.4, 3.2, 4.5, 1.5],\n",
            "       [6.9, 3.1, 4.9, 1.5],\n",
            "       [5.5, 2.3, 4. , 1.3],\n",
            "       [6.5, 2.8, 4.6, 1.5],\n",
            "       [5.7, 2.8, 4.5, 1.3],\n",
            "       [6.3, 3.3, 4.7, 1.6],\n",
            "       [4.9, 2.4, 3.3, 1. ],\n",
            "       [6.6, 2.9, 4.6, 1.3],\n",
            "       [5.2, 2.7, 3.9, 1.4],\n",
            "       [5. , 2. , 3.5, 1. ],\n",
            "       [5.9, 3. , 4.2, 1.5],\n",
            "       [6. , 2.2, 4. , 1. ],\n",
            "       [6.1, 2.9, 4.7, 1.4],\n",
            "       [5.6, 2.9, 3.6, 1.3],\n",
            "       [6.7, 3.1, 4.4, 1.4],\n",
            "       [5.6, 3. , 4.5, 1.5],\n",
            "       [5.8, 2.7, 4.1, 1. ],\n",
            "       [6.2, 2.2, 4.5, 1.5],\n",
            "       [5.6, 2.5, 3.9, 1.1],\n",
            "       [5.9, 3.2, 4.8, 1.8],\n",
            "       [6.1, 2.8, 4. , 1.3],\n",
            "       [6.3, 2.5, 4.9, 1.5],\n",
            "       [6.1, 2.8, 4.7, 1.2],\n",
            "       [6.4, 2.9, 4.3, 1.3],\n",
            "       [6.6, 3. , 4.4, 1.4],\n",
            "       [6.8, 2.8, 4.8, 1.4],\n",
            "       [6.7, 3. , 5. , 1.7],\n",
            "       [6. , 2.9, 4.5, 1.5],\n",
            "       [5.7, 2.6, 3.5, 1. ],\n",
            "       [5.5, 2.4, 3.8, 1.1],\n",
            "       [5.5, 2.4, 3.7, 1. ],\n",
            "       [5.8, 2.7, 3.9, 1.2],\n",
            "       [6. , 2.7, 5.1, 1.6],\n",
            "       [5.4, 3. , 4.5, 1.5],\n",
            "       [6. , 3.4, 4.5, 1.6],\n",
            "       [6.7, 3.1, 4.7, 1.5],\n",
            "       [6.3, 2.3, 4.4, 1.3],\n",
            "       [5.6, 3. , 4.1, 1.3],\n",
            "       [5.5, 2.5, 4. , 1.3],\n",
            "       [5.5, 2.6, 4.4, 1.2],\n",
            "       [6.1, 3. , 4.6, 1.4],\n",
            "       [5.8, 2.6, 4. , 1.2],\n",
            "       [5. , 2.3, 3.3, 1. ],\n",
            "       [5.6, 2.7, 4.2, 1.3],\n",
            "       [5.7, 3. , 4.2, 1.2],\n",
            "       [5.7, 2.9, 4.2, 1.3],\n",
            "       [6.2, 2.9, 4.3, 1.3],\n",
            "       [5.1, 2.5, 3. , 1.1],\n",
            "       [5.7, 2.8, 4.1, 1.3],\n",
            "       [6.3, 3.3, 6. , 2.5],\n",
            "       [5.8, 2.7, 5.1, 1.9],\n",
            "       [7.1, 3. , 5.9, 2.1],\n",
            "       [6.3, 2.9, 5.6, 1.8],\n",
            "       [6.5, 3. , 5.8, 2.2],\n",
            "       [7.6, 3. , 6.6, 2.1],\n",
            "       [4.9, 2.5, 4.5, 1.7],\n",
            "       [7.3, 2.9, 6.3, 1.8],\n",
            "       [6.7, 2.5, 5.8, 1.8],\n",
            "       [7.2, 3.6, 6.1, 2.5],\n",
            "       [6.5, 3.2, 5.1, 2. ],\n",
            "       [6.4, 2.7, 5.3, 1.9],\n",
            "       [6.8, 3. , 5.5, 2.1],\n",
            "       [5.7, 2.5, 5. , 2. ],\n",
            "       [5.8, 2.8, 5.1, 2.4],\n",
            "       [6.4, 3.2, 5.3, 2.3],\n",
            "       [6.5, 3. , 5.5, 1.8],\n",
            "       [7.7, 3.8, 6.7, 2.2],\n",
            "       [7.7, 2.6, 6.9, 2.3],\n",
            "       [6. , 2.2, 5. , 1.5],\n",
            "       [6.9, 3.2, 5.7, 2.3],\n",
            "       [5.6, 2.8, 4.9, 2. ],\n",
            "       [7.7, 2.8, 6.7, 2. ],\n",
            "       [6.3, 2.7, 4.9, 1.8],\n",
            "       [6.7, 3.3, 5.7, 2.1],\n",
            "       [7.2, 3.2, 6. , 1.8],\n",
            "       [6.2, 2.8, 4.8, 1.8],\n",
            "       [6.1, 3. , 4.9, 1.8],\n",
            "       [6.4, 2.8, 5.6, 2.1],\n",
            "       [7.2, 3. , 5.8, 1.6],\n",
            "       [7.4, 2.8, 6.1, 1.9],\n",
            "       [7.9, 3.8, 6.4, 2. ],\n",
            "       [6.4, 2.8, 5.6, 2.2],\n",
            "       [6.3, 2.8, 5.1, 1.5],\n",
            "       [6.1, 2.6, 5.6, 1.4],\n",
            "       [7.7, 3. , 6.1, 2.3],\n",
            "       [6.3, 3.4, 5.6, 2.4],\n",
            "       [6.4, 3.1, 5.5, 1.8],\n",
            "       [6. , 3. , 4.8, 1.8],\n",
            "       [6.9, 3.1, 5.4, 2.1],\n",
            "       [6.7, 3.1, 5.6, 2.4],\n",
            "       [6.9, 3.1, 5.1, 2.3],\n",
            "       [5.8, 2.7, 5.1, 1.9],\n",
            "       [6.8, 3.2, 5.9, 2.3],\n",
            "       [6.7, 3.3, 5.7, 2.5],\n",
            "       [6.7, 3. , 5.2, 2.3],\n",
            "       [6.3, 2.5, 5. , 1.9],\n",
            "       [6.5, 3. , 5.2, 2. ],\n",
            "       [6.2, 3.4, 5.4, 2.3],\n",
            "       [5.9, 3. , 5.1, 1.8]]), 'target': array([0, 0, 0, 0, 0, 0, 0, 0, 0, 0, 0, 0, 0, 0, 0, 0, 0, 0, 0, 0, 0, 0,\n",
            "       0, 0, 0, 0, 0, 0, 0, 0, 0, 0, 0, 0, 0, 0, 0, 0, 0, 0, 0, 0, 0, 0,\n",
            "       0, 0, 0, 0, 0, 0, 1, 1, 1, 1, 1, 1, 1, 1, 1, 1, 1, 1, 1, 1, 1, 1,\n",
            "       1, 1, 1, 1, 1, 1, 1, 1, 1, 1, 1, 1, 1, 1, 1, 1, 1, 1, 1, 1, 1, 1,\n",
            "       1, 1, 1, 1, 1, 1, 1, 1, 1, 1, 1, 1, 2, 2, 2, 2, 2, 2, 2, 2, 2, 2,\n",
            "       2, 2, 2, 2, 2, 2, 2, 2, 2, 2, 2, 2, 2, 2, 2, 2, 2, 2, 2, 2, 2, 2,\n",
            "       2, 2, 2, 2, 2, 2, 2, 2, 2, 2, 2, 2, 2, 2, 2, 2, 2, 2]), 'frame': None, 'target_names': array(['setosa', 'versicolor', 'virginica'], dtype='<U10'), 'DESCR': '.. _iris_dataset:\\n\\nIris plants dataset\\n--------------------\\n\\n**Data Set Characteristics:**\\n\\n:Number of Instances: 150 (50 in each of three classes)\\n:Number of Attributes: 4 numeric, predictive attributes and the class\\n:Attribute Information:\\n    - sepal length in cm\\n    - sepal width in cm\\n    - petal length in cm\\n    - petal width in cm\\n    - class:\\n            - Iris-Setosa\\n            - Iris-Versicolour\\n            - Iris-Virginica\\n\\n:Summary Statistics:\\n\\n============== ==== ==== ======= ===== ====================\\n                Min  Max   Mean    SD   Class Correlation\\n============== ==== ==== ======= ===== ====================\\nsepal length:   4.3  7.9   5.84   0.83    0.7826\\nsepal width:    2.0  4.4   3.05   0.43   -0.4194\\npetal length:   1.0  6.9   3.76   1.76    0.9490  (high!)\\npetal width:    0.1  2.5   1.20   0.76    0.9565  (high!)\\n============== ==== ==== ======= ===== ====================\\n\\n:Missing Attribute Values: None\\n:Class Distribution: 33.3% for each of 3 classes.\\n:Creator: R.A. Fisher\\n:Donor: Michael Marshall (MARSHALL%PLU@io.arc.nasa.gov)\\n:Date: July, 1988\\n\\nThe famous Iris database, first used by Sir R.A. Fisher. The dataset is taken\\nfrom Fisher\\'s paper. Note that it\\'s the same as in R, but not as in the UCI\\nMachine Learning Repository, which has two wrong data points.\\n\\nThis is perhaps the best known database to be found in the\\npattern recognition literature.  Fisher\\'s paper is a classic in the field and\\nis referenced frequently to this day.  (See Duda & Hart, for example.)  The\\ndata set contains 3 classes of 50 instances each, where each class refers to a\\ntype of iris plant.  One class is linearly separable from the other 2; the\\nlatter are NOT linearly separable from each other.\\n\\n.. dropdown:: References\\n\\n  - Fisher, R.A. \"The use of multiple measurements in taxonomic problems\"\\n    Annual Eugenics, 7, Part II, 179-188 (1936); also in \"Contributions to\\n    Mathematical Statistics\" (John Wiley, NY, 1950).\\n  - Duda, R.O., & Hart, P.E. (1973) Pattern Classification and Scene Analysis.\\n    (Q327.D83) John Wiley & Sons.  ISBN 0-471-22361-1.  See page 218.\\n  - Dasarathy, B.V. (1980) \"Nosing Around the Neighborhood: A New System\\n    Structure and Classification Rule for Recognition in Partially Exposed\\n    Environments\".  IEEE Transactions on Pattern Analysis and Machine\\n    Intelligence, Vol. PAMI-2, No. 1, 67-71.\\n  - Gates, G.W. (1972) \"The Reduced Nearest Neighbor Rule\".  IEEE Transactions\\n    on Information Theory, May 1972, 431-433.\\n  - See also: 1988 MLC Proceedings, 54-64.  Cheeseman et al\"s AUTOCLASS II\\n    conceptual clustering system finds 3 classes in the data.\\n  - Many, many more ...\\n', 'feature_names': ['sepal length (cm)', 'sepal width (cm)', 'petal length (cm)', 'petal width (cm)'], 'filename': 'iris.csv', 'data_module': 'sklearn.datasets.data'}\n"
          ]
        }
      ],
      "source": [
        "print(iris)"
      ]
    },
    {
      "cell_type": "markdown",
      "metadata": {
        "id": "pENHKk3QpFf8"
      },
      "source": [
        "#### As you can see the dataset is in the form of an object similar to a `dictionay`. What are the `keys` of the dictionary?"
      ]
    },
    {
      "cell_type": "code",
      "execution_count": null,
      "metadata": {
        "id": "hULTKjyipFf8",
        "outputId": "85ecee38-9296-4f26-8f1a-2db1d263110a"
      },
      "outputs": [
        {
          "data": {
            "text/plain": [
              "dict_keys(['data', 'target', 'frame', 'target_names', 'DESCR', 'feature_names', 'filename', 'data_module'])"
            ]
          },
          "execution_count": 3,
          "metadata": {},
          "output_type": "execute_result"
        }
      ],
      "source": []
    },
    {
      "cell_type": "markdown",
      "metadata": {
        "id": "h8-QNzlApFf8"
      },
      "source": [
        "#### To have better understanding of the dataset, let's print it in tabular form."
      ]
    },
    {
      "cell_type": "code",
      "execution_count": 4,
      "metadata": {
        "colab": {
          "base_uri": "https://localhost:8080/",
          "height": 419
        },
        "id": "PIqoi5_UpFf8",
        "outputId": "c6b01b1f-daea-4b9c-94c4-7e536db1ab84"
      },
      "outputs": [
        {
          "output_type": "execute_result",
          "data": {
            "text/plain": [
              "     sepal length (cm)  sepal width (cm)  petal length (cm)  petal width (cm)  \\\n",
              "0                  5.1               3.5                1.4               0.2   \n",
              "1                  4.9               3.0                1.4               0.2   \n",
              "2                  4.7               3.2                1.3               0.2   \n",
              "3                  4.6               3.1                1.5               0.2   \n",
              "4                  5.0               3.6                1.4               0.2   \n",
              "..                 ...               ...                ...               ...   \n",
              "145                6.7               3.0                5.2               2.3   \n",
              "146                6.3               2.5                5.0               1.9   \n",
              "147                6.5               3.0                5.2               2.0   \n",
              "148                6.2               3.4                5.4               2.3   \n",
              "149                5.9               3.0                5.1               1.8   \n",
              "\n",
              "     target  \n",
              "0         0  \n",
              "1         0  \n",
              "2         0  \n",
              "3         0  \n",
              "4         0  \n",
              "..      ...  \n",
              "145       2  \n",
              "146       2  \n",
              "147       2  \n",
              "148       2  \n",
              "149       2  \n",
              "\n",
              "[150 rows x 5 columns]"
            ],
            "text/html": [
              "\n",
              "  <div id=\"df-a3f8951d-d290-4db1-a577-6aad915ed2d0\" class=\"colab-df-container\">\n",
              "    <div>\n",
              "<style scoped>\n",
              "    .dataframe tbody tr th:only-of-type {\n",
              "        vertical-align: middle;\n",
              "    }\n",
              "\n",
              "    .dataframe tbody tr th {\n",
              "        vertical-align: top;\n",
              "    }\n",
              "\n",
              "    .dataframe thead th {\n",
              "        text-align: right;\n",
              "    }\n",
              "</style>\n",
              "<table border=\"1\" class=\"dataframe\">\n",
              "  <thead>\n",
              "    <tr style=\"text-align: right;\">\n",
              "      <th></th>\n",
              "      <th>sepal length (cm)</th>\n",
              "      <th>sepal width (cm)</th>\n",
              "      <th>petal length (cm)</th>\n",
              "      <th>petal width (cm)</th>\n",
              "      <th>target</th>\n",
              "    </tr>\n",
              "  </thead>\n",
              "  <tbody>\n",
              "    <tr>\n",
              "      <th>0</th>\n",
              "      <td>5.1</td>\n",
              "      <td>3.5</td>\n",
              "      <td>1.4</td>\n",
              "      <td>0.2</td>\n",
              "      <td>0</td>\n",
              "    </tr>\n",
              "    <tr>\n",
              "      <th>1</th>\n",
              "      <td>4.9</td>\n",
              "      <td>3.0</td>\n",
              "      <td>1.4</td>\n",
              "      <td>0.2</td>\n",
              "      <td>0</td>\n",
              "    </tr>\n",
              "    <tr>\n",
              "      <th>2</th>\n",
              "      <td>4.7</td>\n",
              "      <td>3.2</td>\n",
              "      <td>1.3</td>\n",
              "      <td>0.2</td>\n",
              "      <td>0</td>\n",
              "    </tr>\n",
              "    <tr>\n",
              "      <th>3</th>\n",
              "      <td>4.6</td>\n",
              "      <td>3.1</td>\n",
              "      <td>1.5</td>\n",
              "      <td>0.2</td>\n",
              "      <td>0</td>\n",
              "    </tr>\n",
              "    <tr>\n",
              "      <th>4</th>\n",
              "      <td>5.0</td>\n",
              "      <td>3.6</td>\n",
              "      <td>1.4</td>\n",
              "      <td>0.2</td>\n",
              "      <td>0</td>\n",
              "    </tr>\n",
              "    <tr>\n",
              "      <th>...</th>\n",
              "      <td>...</td>\n",
              "      <td>...</td>\n",
              "      <td>...</td>\n",
              "      <td>...</td>\n",
              "      <td>...</td>\n",
              "    </tr>\n",
              "    <tr>\n",
              "      <th>145</th>\n",
              "      <td>6.7</td>\n",
              "      <td>3.0</td>\n",
              "      <td>5.2</td>\n",
              "      <td>2.3</td>\n",
              "      <td>2</td>\n",
              "    </tr>\n",
              "    <tr>\n",
              "      <th>146</th>\n",
              "      <td>6.3</td>\n",
              "      <td>2.5</td>\n",
              "      <td>5.0</td>\n",
              "      <td>1.9</td>\n",
              "      <td>2</td>\n",
              "    </tr>\n",
              "    <tr>\n",
              "      <th>147</th>\n",
              "      <td>6.5</td>\n",
              "      <td>3.0</td>\n",
              "      <td>5.2</td>\n",
              "      <td>2.0</td>\n",
              "      <td>2</td>\n",
              "    </tr>\n",
              "    <tr>\n",
              "      <th>148</th>\n",
              "      <td>6.2</td>\n",
              "      <td>3.4</td>\n",
              "      <td>5.4</td>\n",
              "      <td>2.3</td>\n",
              "      <td>2</td>\n",
              "    </tr>\n",
              "    <tr>\n",
              "      <th>149</th>\n",
              "      <td>5.9</td>\n",
              "      <td>3.0</td>\n",
              "      <td>5.1</td>\n",
              "      <td>1.8</td>\n",
              "      <td>2</td>\n",
              "    </tr>\n",
              "  </tbody>\n",
              "</table>\n",
              "<p>150 rows × 5 columns</p>\n",
              "</div>\n",
              "    <div class=\"colab-df-buttons\">\n",
              "\n",
              "  <div class=\"colab-df-container\">\n",
              "    <button class=\"colab-df-convert\" onclick=\"convertToInteractive('df-a3f8951d-d290-4db1-a577-6aad915ed2d0')\"\n",
              "            title=\"Convert this dataframe to an interactive table.\"\n",
              "            style=\"display:none;\">\n",
              "\n",
              "  <svg xmlns=\"http://www.w3.org/2000/svg\" height=\"24px\" viewBox=\"0 -960 960 960\">\n",
              "    <path d=\"M120-120v-720h720v720H120Zm60-500h600v-160H180v160Zm220 220h160v-160H400v160Zm0 220h160v-160H400v160ZM180-400h160v-160H180v160Zm440 0h160v-160H620v160ZM180-180h160v-160H180v160Zm440 0h160v-160H620v160Z\"/>\n",
              "  </svg>\n",
              "    </button>\n",
              "\n",
              "  <style>\n",
              "    .colab-df-container {\n",
              "      display:flex;\n",
              "      gap: 12px;\n",
              "    }\n",
              "\n",
              "    .colab-df-convert {\n",
              "      background-color: #E8F0FE;\n",
              "      border: none;\n",
              "      border-radius: 50%;\n",
              "      cursor: pointer;\n",
              "      display: none;\n",
              "      fill: #1967D2;\n",
              "      height: 32px;\n",
              "      padding: 0 0 0 0;\n",
              "      width: 32px;\n",
              "    }\n",
              "\n",
              "    .colab-df-convert:hover {\n",
              "      background-color: #E2EBFA;\n",
              "      box-shadow: 0px 1px 2px rgba(60, 64, 67, 0.3), 0px 1px 3px 1px rgba(60, 64, 67, 0.15);\n",
              "      fill: #174EA6;\n",
              "    }\n",
              "\n",
              "    .colab-df-buttons div {\n",
              "      margin-bottom: 4px;\n",
              "    }\n",
              "\n",
              "    [theme=dark] .colab-df-convert {\n",
              "      background-color: #3B4455;\n",
              "      fill: #D2E3FC;\n",
              "    }\n",
              "\n",
              "    [theme=dark] .colab-df-convert:hover {\n",
              "      background-color: #434B5C;\n",
              "      box-shadow: 0px 1px 3px 1px rgba(0, 0, 0, 0.15);\n",
              "      filter: drop-shadow(0px 1px 2px rgba(0, 0, 0, 0.3));\n",
              "      fill: #FFFFFF;\n",
              "    }\n",
              "  </style>\n",
              "\n",
              "    <script>\n",
              "      const buttonEl =\n",
              "        document.querySelector('#df-a3f8951d-d290-4db1-a577-6aad915ed2d0 button.colab-df-convert');\n",
              "      buttonEl.style.display =\n",
              "        google.colab.kernel.accessAllowed ? 'block' : 'none';\n",
              "\n",
              "      async function convertToInteractive(key) {\n",
              "        const element = document.querySelector('#df-a3f8951d-d290-4db1-a577-6aad915ed2d0');\n",
              "        const dataTable =\n",
              "          await google.colab.kernel.invokeFunction('convertToInteractive',\n",
              "                                                    [key], {});\n",
              "        if (!dataTable) return;\n",
              "\n",
              "        const docLinkHtml = 'Like what you see? Visit the ' +\n",
              "          '<a target=\"_blank\" href=https://colab.research.google.com/notebooks/data_table.ipynb>data table notebook</a>'\n",
              "          + ' to learn more about interactive tables.';\n",
              "        element.innerHTML = '';\n",
              "        dataTable['output_type'] = 'display_data';\n",
              "        await google.colab.output.renderOutput(dataTable, element);\n",
              "        const docLink = document.createElement('div');\n",
              "        docLink.innerHTML = docLinkHtml;\n",
              "        element.appendChild(docLink);\n",
              "      }\n",
              "    </script>\n",
              "  </div>\n",
              "\n",
              "\n",
              "    <div id=\"df-9aa52478-d80a-40b3-b0fb-d2ee0e2e8ad3\">\n",
              "      <button class=\"colab-df-quickchart\" onclick=\"quickchart('df-9aa52478-d80a-40b3-b0fb-d2ee0e2e8ad3')\"\n",
              "                title=\"Suggest charts\"\n",
              "                style=\"display:none;\">\n",
              "\n",
              "<svg xmlns=\"http://www.w3.org/2000/svg\" height=\"24px\"viewBox=\"0 0 24 24\"\n",
              "     width=\"24px\">\n",
              "    <g>\n",
              "        <path d=\"M19 3H5c-1.1 0-2 .9-2 2v14c0 1.1.9 2 2 2h14c1.1 0 2-.9 2-2V5c0-1.1-.9-2-2-2zM9 17H7v-7h2v7zm4 0h-2V7h2v10zm4 0h-2v-4h2v4z\"/>\n",
              "    </g>\n",
              "</svg>\n",
              "      </button>\n",
              "\n",
              "<style>\n",
              "  .colab-df-quickchart {\n",
              "      --bg-color: #E8F0FE;\n",
              "      --fill-color: #1967D2;\n",
              "      --hover-bg-color: #E2EBFA;\n",
              "      --hover-fill-color: #174EA6;\n",
              "      --disabled-fill-color: #AAA;\n",
              "      --disabled-bg-color: #DDD;\n",
              "  }\n",
              "\n",
              "  [theme=dark] .colab-df-quickchart {\n",
              "      --bg-color: #3B4455;\n",
              "      --fill-color: #D2E3FC;\n",
              "      --hover-bg-color: #434B5C;\n",
              "      --hover-fill-color: #FFFFFF;\n",
              "      --disabled-bg-color: #3B4455;\n",
              "      --disabled-fill-color: #666;\n",
              "  }\n",
              "\n",
              "  .colab-df-quickchart {\n",
              "    background-color: var(--bg-color);\n",
              "    border: none;\n",
              "    border-radius: 50%;\n",
              "    cursor: pointer;\n",
              "    display: none;\n",
              "    fill: var(--fill-color);\n",
              "    height: 32px;\n",
              "    padding: 0;\n",
              "    width: 32px;\n",
              "  }\n",
              "\n",
              "  .colab-df-quickchart:hover {\n",
              "    background-color: var(--hover-bg-color);\n",
              "    box-shadow: 0 1px 2px rgba(60, 64, 67, 0.3), 0 1px 3px 1px rgba(60, 64, 67, 0.15);\n",
              "    fill: var(--button-hover-fill-color);\n",
              "  }\n",
              "\n",
              "  .colab-df-quickchart-complete:disabled,\n",
              "  .colab-df-quickchart-complete:disabled:hover {\n",
              "    background-color: var(--disabled-bg-color);\n",
              "    fill: var(--disabled-fill-color);\n",
              "    box-shadow: none;\n",
              "  }\n",
              "\n",
              "  .colab-df-spinner {\n",
              "    border: 2px solid var(--fill-color);\n",
              "    border-color: transparent;\n",
              "    border-bottom-color: var(--fill-color);\n",
              "    animation:\n",
              "      spin 1s steps(1) infinite;\n",
              "  }\n",
              "\n",
              "  @keyframes spin {\n",
              "    0% {\n",
              "      border-color: transparent;\n",
              "      border-bottom-color: var(--fill-color);\n",
              "      border-left-color: var(--fill-color);\n",
              "    }\n",
              "    20% {\n",
              "      border-color: transparent;\n",
              "      border-left-color: var(--fill-color);\n",
              "      border-top-color: var(--fill-color);\n",
              "    }\n",
              "    30% {\n",
              "      border-color: transparent;\n",
              "      border-left-color: var(--fill-color);\n",
              "      border-top-color: var(--fill-color);\n",
              "      border-right-color: var(--fill-color);\n",
              "    }\n",
              "    40% {\n",
              "      border-color: transparent;\n",
              "      border-right-color: var(--fill-color);\n",
              "      border-top-color: var(--fill-color);\n",
              "    }\n",
              "    60% {\n",
              "      border-color: transparent;\n",
              "      border-right-color: var(--fill-color);\n",
              "    }\n",
              "    80% {\n",
              "      border-color: transparent;\n",
              "      border-right-color: var(--fill-color);\n",
              "      border-bottom-color: var(--fill-color);\n",
              "    }\n",
              "    90% {\n",
              "      border-color: transparent;\n",
              "      border-bottom-color: var(--fill-color);\n",
              "    }\n",
              "  }\n",
              "</style>\n",
              "\n",
              "      <script>\n",
              "        async function quickchart(key) {\n",
              "          const quickchartButtonEl =\n",
              "            document.querySelector('#' + key + ' button');\n",
              "          quickchartButtonEl.disabled = true;  // To prevent multiple clicks.\n",
              "          quickchartButtonEl.classList.add('colab-df-spinner');\n",
              "          try {\n",
              "            const charts = await google.colab.kernel.invokeFunction(\n",
              "                'suggestCharts', [key], {});\n",
              "          } catch (error) {\n",
              "            console.error('Error during call to suggestCharts:', error);\n",
              "          }\n",
              "          quickchartButtonEl.classList.remove('colab-df-spinner');\n",
              "          quickchartButtonEl.classList.add('colab-df-quickchart-complete');\n",
              "        }\n",
              "        (() => {\n",
              "          let quickchartButtonEl =\n",
              "            document.querySelector('#df-9aa52478-d80a-40b3-b0fb-d2ee0e2e8ad3 button');\n",
              "          quickchartButtonEl.style.display =\n",
              "            google.colab.kernel.accessAllowed ? 'block' : 'none';\n",
              "        })();\n",
              "      </script>\n",
              "    </div>\n",
              "\n",
              "  <div id=\"id_e0408051-c689-4505-8c9b-c9d45d5dfeae\">\n",
              "    <style>\n",
              "      .colab-df-generate {\n",
              "        background-color: #E8F0FE;\n",
              "        border: none;\n",
              "        border-radius: 50%;\n",
              "        cursor: pointer;\n",
              "        display: none;\n",
              "        fill: #1967D2;\n",
              "        height: 32px;\n",
              "        padding: 0 0 0 0;\n",
              "        width: 32px;\n",
              "      }\n",
              "\n",
              "      .colab-df-generate:hover {\n",
              "        background-color: #E2EBFA;\n",
              "        box-shadow: 0px 1px 2px rgba(60, 64, 67, 0.3), 0px 1px 3px 1px rgba(60, 64, 67, 0.15);\n",
              "        fill: #174EA6;\n",
              "      }\n",
              "\n",
              "      [theme=dark] .colab-df-generate {\n",
              "        background-color: #3B4455;\n",
              "        fill: #D2E3FC;\n",
              "      }\n",
              "\n",
              "      [theme=dark] .colab-df-generate:hover {\n",
              "        background-color: #434B5C;\n",
              "        box-shadow: 0px 1px 3px 1px rgba(0, 0, 0, 0.15);\n",
              "        filter: drop-shadow(0px 1px 2px rgba(0, 0, 0, 0.3));\n",
              "        fill: #FFFFFF;\n",
              "      }\n",
              "    </style>\n",
              "    <button class=\"colab-df-generate\" onclick=\"generateWithVariable('df')\"\n",
              "            title=\"Generate code using this dataframe.\"\n",
              "            style=\"display:none;\">\n",
              "\n",
              "  <svg xmlns=\"http://www.w3.org/2000/svg\" height=\"24px\"viewBox=\"0 0 24 24\"\n",
              "       width=\"24px\">\n",
              "    <path d=\"M7,19H8.4L18.45,9,17,7.55,7,17.6ZM5,21V16.75L18.45,3.32a2,2,0,0,1,2.83,0l1.4,1.43a1.91,1.91,0,0,1,.58,1.4,1.91,1.91,0,0,1-.58,1.4L9.25,21ZM18.45,9,17,7.55Zm-12,3A5.31,5.31,0,0,0,4.9,8.1,5.31,5.31,0,0,0,1,6.5,5.31,5.31,0,0,0,4.9,4.9,5.31,5.31,0,0,0,6.5,1,5.31,5.31,0,0,0,8.1,4.9,5.31,5.31,0,0,0,12,6.5,5.46,5.46,0,0,0,6.5,12Z\"/>\n",
              "  </svg>\n",
              "    </button>\n",
              "    <script>\n",
              "      (() => {\n",
              "      const buttonEl =\n",
              "        document.querySelector('#id_e0408051-c689-4505-8c9b-c9d45d5dfeae button.colab-df-generate');\n",
              "      buttonEl.style.display =\n",
              "        google.colab.kernel.accessAllowed ? 'block' : 'none';\n",
              "\n",
              "      buttonEl.onclick = () => {\n",
              "        google.colab.notebook.generateWithVariable('df');\n",
              "      }\n",
              "      })();\n",
              "    </script>\n",
              "  </div>\n",
              "\n",
              "    </div>\n",
              "  </div>\n"
            ],
            "application/vnd.google.colaboratory.intrinsic+json": {
              "type": "dataframe",
              "variable_name": "df",
              "summary": "{\n  \"name\": \"df\",\n  \"rows\": 150,\n  \"fields\": [\n    {\n      \"column\": \"sepal length (cm)\",\n      \"properties\": {\n        \"dtype\": \"number\",\n        \"std\": 0.8280661279778629,\n        \"min\": 4.3,\n        \"max\": 7.9,\n        \"num_unique_values\": 35,\n        \"samples\": [\n          6.2,\n          4.5,\n          5.6\n        ],\n        \"semantic_type\": \"\",\n        \"description\": \"\"\n      }\n    },\n    {\n      \"column\": \"sepal width (cm)\",\n      \"properties\": {\n        \"dtype\": \"number\",\n        \"std\": 0.435866284936698,\n        \"min\": 2.0,\n        \"max\": 4.4,\n        \"num_unique_values\": 23,\n        \"samples\": [\n          2.3,\n          4.0,\n          3.5\n        ],\n        \"semantic_type\": \"\",\n        \"description\": \"\"\n      }\n    },\n    {\n      \"column\": \"petal length (cm)\",\n      \"properties\": {\n        \"dtype\": \"number\",\n        \"std\": 1.7652982332594667,\n        \"min\": 1.0,\n        \"max\": 6.9,\n        \"num_unique_values\": 43,\n        \"samples\": [\n          6.7,\n          3.8,\n          3.7\n        ],\n        \"semantic_type\": \"\",\n        \"description\": \"\"\n      }\n    },\n    {\n      \"column\": \"petal width (cm)\",\n      \"properties\": {\n        \"dtype\": \"number\",\n        \"std\": 0.7622376689603465,\n        \"min\": 0.1,\n        \"max\": 2.5,\n        \"num_unique_values\": 22,\n        \"samples\": [\n          0.2,\n          1.2,\n          1.3\n        ],\n        \"semantic_type\": \"\",\n        \"description\": \"\"\n      }\n    },\n    {\n      \"column\": \"target\",\n      \"properties\": {\n        \"dtype\": \"number\",\n        \"std\": 0,\n        \"min\": 0,\n        \"max\": 2,\n        \"num_unique_values\": 3,\n        \"samples\": [\n          0,\n          1,\n          2\n        ],\n        \"semantic_type\": \"\",\n        \"description\": \"\"\n      }\n    }\n  ]\n}"
            }
          },
          "metadata": {},
          "execution_count": 4
        }
      ],
      "source": [
        "\n",
        "df = pd.DataFrame(data=iris['data'], columns=iris['feature_names'])\n",
        "df['target'] = iris['target']\n",
        "df"
      ]
    },
    {
      "cell_type": "markdown",
      "metadata": {
        "id": "9da07L1GpFf9"
      },
      "source": [
        "Figure below illustrates the features and target labels for iris dataset.\n",
        "\n",
        "<img src=\"https://raw.githubusercontent.com/PyDataGBC/PyData2025/refs/heads/main/Lab_Week7_KNN/assets/iris.png\" width=\"500\" hight=\"300\" />"
      ]
    },
    {
      "cell_type": "markdown",
      "metadata": {
        "id": "uQ46cCqPpFf9"
      },
      "source": [
        "#### What is the value of the key `data`? Assign the value to a variable `X`"
      ]
    },
    {
      "cell_type": "code",
      "execution_count": 5,
      "metadata": {
        "id": "jI9vTnfYpFf9"
      },
      "outputs": [],
      "source": [
        "X = iris['data']"
      ]
    },
    {
      "cell_type": "markdown",
      "metadata": {
        "id": "avKxAiaApFf9"
      },
      "source": [
        "#### What is the `shape` of `X`?"
      ]
    },
    {
      "cell_type": "code",
      "execution_count": 7,
      "metadata": {
        "colab": {
          "base_uri": "https://localhost:8080/"
        },
        "id": "l0mz35ampFf9",
        "outputId": "62deff55-b918-45db-98a1-9be1084b7e60"
      },
      "outputs": [
        {
          "output_type": "stream",
          "name": "stdout",
          "text": [
            "(150, 4)\n"
          ]
        }
      ],
      "source": [
        "print(X.shape)"
      ]
    },
    {
      "cell_type": "markdown",
      "metadata": {
        "id": "o5ltruCSpFf9"
      },
      "source": [
        "#### What is the value of the key `target`? Assign the value to a variable `y`"
      ]
    },
    {
      "cell_type": "code",
      "execution_count": 8,
      "metadata": {
        "id": "oceanX_GpFf9"
      },
      "outputs": [],
      "source": [
        "y = iris['target']"
      ]
    },
    {
      "cell_type": "markdown",
      "metadata": {
        "id": "IgcJxvU4pFf9"
      },
      "source": [
        "#### What is the `shape` of `y`?"
      ]
    },
    {
      "cell_type": "code",
      "execution_count": 10,
      "metadata": {
        "colab": {
          "base_uri": "https://localhost:8080/"
        },
        "id": "g7K6e5xYpFf9",
        "outputId": "df21216c-2e2b-4114-bda4-7eac4be049e0"
      },
      "outputs": [
        {
          "output_type": "stream",
          "name": "stdout",
          "text": [
            "(150,)\n"
          ]
        }
      ],
      "source": [
        "print(y.shape)"
      ]
    },
    {
      "cell_type": "markdown",
      "metadata": {
        "id": "tJp1OnvnpFf9"
      },
      "source": [
        "#### What is the value of the key `target_names`? Assign the value to a variable `target_names`"
      ]
    },
    {
      "cell_type": "code",
      "execution_count": 11,
      "metadata": {
        "id": "iBpcGL5epFf9"
      },
      "outputs": [],
      "source": [
        "target_names = iris['target_names']"
      ]
    },
    {
      "cell_type": "markdown",
      "metadata": {
        "id": "-1XvbyQ8pFf9"
      },
      "source": [
        "#### What is the value of the key `feature_names`? Assign the value to a variable `feature_names`"
      ]
    },
    {
      "cell_type": "code",
      "execution_count": 12,
      "metadata": {
        "id": "K_Z9jDLwpFf-"
      },
      "outputs": [],
      "source": [
        "feature_names = iris['feature_names']"
      ]
    },
    {
      "cell_type": "markdown",
      "metadata": {
        "id": "9HMvdALkpFf-"
      },
      "source": [
        "# Exploring and looping through the dataset"
      ]
    },
    {
      "cell_type": "markdown",
      "metadata": {
        "id": "AITtobpupFf-"
      },
      "source": [
        "#### Print the 5th datapoint in your dataset `X`"
      ]
    },
    {
      "cell_type": "code",
      "execution_count": 13,
      "metadata": {
        "colab": {
          "base_uri": "https://localhost:8080/"
        },
        "id": "tzCrUMsbpFf-",
        "outputId": "dd28539f-66ad-4883-cbb6-9f0d0eb1c3a3"
      },
      "outputs": [
        {
          "output_type": "stream",
          "name": "stdout",
          "text": [
            "[5.  3.6 1.4 0.2]\n"
          ]
        }
      ],
      "source": [
        "print(X[4])"
      ]
    },
    {
      "cell_type": "markdown",
      "metadata": {
        "id": "R6c8vsLDpFf-"
      },
      "source": [
        "#### Print the features and target label of flower 1 to 5."
      ]
    },
    {
      "cell_type": "code",
      "execution_count": 14,
      "metadata": {
        "colab": {
          "base_uri": "https://localhost:8080/"
        },
        "id": "IKz8-jubpFf-",
        "outputId": "c5e8c299-04ab-4718-a84f-b487eef4d1c4"
      },
      "outputs": [
        {
          "output_type": "stream",
          "name": "stdout",
          "text": [
            "Flower 1: Features - [5.1 3.5 1.4 0.2], Target Label - 0\n",
            "Flower 2: Features - [4.9 3.  1.4 0.2], Target Label - 0\n",
            "Flower 3: Features - [4.7 3.2 1.3 0.2], Target Label - 0\n",
            "Flower 4: Features - [4.6 3.1 1.5 0.2], Target Label - 0\n",
            "Flower 5: Features - [5.  3.6 1.4 0.2], Target Label - 0\n"
          ]
        }
      ],
      "source": [
        "for i in range(5):\n",
        "    print(f\"Flower {i+1}: Features - {X[i]}, Target Label - {y[i]}\")"
      ]
    },
    {
      "cell_type": "markdown",
      "metadata": {
        "id": "BEgqsmx0pFf-"
      },
      "source": [
        "#### Iterate over all datapoints in `X` and calculate the `area` of Sepal and Petal for each flower in the dataset.\n",
        "\n",
        "`Sepal area` = `Sepal length` * `Sepal width`\n",
        "\n",
        "`Petal area` = `Petal length` * `Petal width`"
      ]
    },
    {
      "cell_type": "code",
      "execution_count": 15,
      "metadata": {
        "colab": {
          "base_uri": "https://localhost:8080/"
        },
        "id": "B7Ej6kpTpFf-",
        "outputId": "281c6d3d-56c4-4f79-916e-0c55f13a0629"
      },
      "outputs": [
        {
          "output_type": "stream",
          "name": "stdout",
          "text": [
            "Flower 1: Sepal Area - 17.85, Petal Area - 0.28\n",
            "Flower 2: Sepal Area - 14.70, Petal Area - 0.28\n",
            "Flower 3: Sepal Area - 15.04, Petal Area - 0.26\n",
            "Flower 4: Sepal Area - 14.26, Petal Area - 0.30\n",
            "Flower 5: Sepal Area - 18.00, Petal Area - 0.28\n"
          ]
        }
      ],
      "source": [
        "sepal_areas = []\n",
        "petal_areas = []\n",
        "for i in range(len(X)):\n",
        "    sepal_area = X[i][0] * X[i][1]\n",
        "    petal_area = X[i][2] * X[i][3]\n",
        "    sepal_areas.append(sepal_area)\n",
        "    petal_areas.append(petal_area)\n",
        "\n",
        "for i in range(5):\n",
        "    print(f\"Flower {i+1}: Sepal Area - {sepal_areas[i]:.2f}, Petal Area - {petal_areas[i]:.2f}\")"
      ]
    },
    {
      "cell_type": "markdown",
      "metadata": {
        "id": "Pycu5GlzpFf-"
      },
      "source": [
        "#### Find the `max`, `min`, `mean` and `median` value of each feature in the dataset `X`\n",
        "\n",
        "Helper: you can iterate through the columns of the dataset and use the `np.max()`, `np.min()`,`np.mean()`, and `np.median()` functions to find the required values. or the better way is to use `axis` parameter of the `np.max()`, `np.min()`,`np.mean()`, and `np.median()` functions."
      ]
    },
    {
      "cell_type": "code",
      "execution_count": 16,
      "metadata": {
        "colab": {
          "base_uri": "https://localhost:8080/"
        },
        "id": "9p6A6on7pFf-",
        "outputId": "987a8885-be26-4f51-c6bf-e2c13f27c410"
      },
      "outputs": [
        {
          "output_type": "stream",
          "name": "stdout",
          "text": [
            "Max of each feature: [7.9 4.4 6.9 2.5]\n",
            "Min of each feature: [4.3 2.  1.  0.1]\n",
            "Mean of each feature: [5.84333333 3.05733333 3.758      1.19933333]\n",
            "Median of each feature: [5.8  3.   4.35 1.3 ]\n"
          ]
        }
      ],
      "source": [
        "print(\"Max of each feature:\", np.max(X, axis=0))\n",
        "print(\"Min of each feature:\", np.min(X, axis=0))\n",
        "print(\"Mean of each feature:\", np.mean(X, axis=0))\n",
        "print(\"Median of each feature:\", np.median(X, axis=0))"
      ]
    },
    {
      "cell_type": "markdown",
      "metadata": {
        "id": "YI0kphhRpFf-"
      },
      "source": [
        "# Plotting the data"
      ]
    },
    {
      "cell_type": "markdown",
      "metadata": {
        "id": "PGKSCw31pFf-"
      },
      "source": [
        "#### `Box plot` of all features"
      ]
    },
    {
      "cell_type": "code",
      "execution_count": 17,
      "metadata": {
        "colab": {
          "base_uri": "https://localhost:8080/",
          "height": 449
        },
        "id": "zuMoDH6qpFf_",
        "outputId": "ec2bdf71-5cc7-470b-8289-bfd57c3b5b58"
      },
      "outputs": [
        {
          "output_type": "display_data",
          "data": {
            "text/plain": [
              "<Figure size 640x480 with 1 Axes>"
            ],
            "image/png": "[encoded data removed]"
          },
          "metadata": {}
        }
      ],
      "source": [
        "plt.figure()\n",
        "plt.boxplot(X[:0])\n",
        "plt.ylabel(\"[cm]\")\n",
        "plt.xlabel(feature_names)\n",
        "plt.show()"
      ]
    },
    {
      "cell_type": "markdown",
      "metadata": {
        "id": "evjJMSYhpFf_"
      },
      "source": [
        "#### Histogram of each feature"
      ]
    },
    {
      "cell_type": "markdown",
      "metadata": {
        "id": "0oBc8dhcpFf_"
      },
      "source": [
        "#### Plot the histogram of each feature."
      ]
    },
    {
      "cell_type": "code",
      "execution_count": 19,
      "metadata": {
        "colab": {
          "base_uri": "https://localhost:8080/",
          "height": 534
        },
        "id": "qUF-gwpZpFf_",
        "outputId": "4bdd847f-5eb2-4109-995c-7cfd189f6152"
      },
      "outputs": [
        {
          "output_type": "execute_result",
          "data": {
            "text/plain": [
              "(array([[ 0.,  0.,  0.,  0.,  0., 11., 48., 49., 31., 11.],\n",
              "        [ 0.,  0., 11., 96., 39.,  4.,  0.,  0.,  0.,  0.],\n",
              "        [ 0., 44.,  6.,  1., 10., 34., 30., 20.,  5.,  0.],\n",
              "        [50., 52., 45.,  3.,  0.,  0.,  0.,  0.,  0.,  0.]]),\n",
              " array([0.1 , 0.88, 1.66, 2.44, 3.22, 4.  , 4.78, 5.56, 6.34, 7.12, 7.9 ]),\n",
              " <a list of 4 BarContainer objects>)"
            ]
          },
          "metadata": {},
          "execution_count": 19
        },
        {
          "output_type": "display_data",
          "data": {
            "text/plain": [
              "<Figure size 640x480 with 1 Axes>"
            ],
            "image/png": "[encoded data removed]"
          },
          "metadata": {}
        }
      ],
      "source": [
        "plt.figure()\n",
        "plt.hist(X)\n",
        "\n",
        "plt.ylabel()\n",
        "plt.xlabel()\n"
      ]
    },
    {
      "cell_type": "markdown",
      "metadata": {
        "id": "A9Sd5x7BpFf_"
      },
      "source": [
        "#### Scatter plot for each pair of features"
      ]
    },
    {
      "cell_type": "markdown",
      "metadata": {
        "id": "Scg80eY4pFf_"
      },
      "source": [
        "Plot the scater plot for the pair of first and second features\n",
        "```python\n",
        "(X[:,0], X[:,1])\n",
        "```\n",
        "Dont't forget to `label` your axes.\n",
        "\n",
        "hint: use `c=y` inside the scatter plot to color the points based on the target labels.\n",
        ""
      ]
    },
    {
      "cell_type": "code",
      "execution_count": null,
      "metadata": {
        "id": "Pw-Ptu7jpFgA"
      },
      "outputs": [],
      "source": [
        "#your code here\n"
      ]
    },
    {
      "cell_type": "markdown",
      "metadata": {
        "id": "JkiJWcnhpFgA"
      },
      "source": [
        "(Optional) The plots shown above do not have legend. To add legend to the plot, you can use the following code snippet."
      ]
    },
    {
      "cell_type": "code",
      "execution_count": null,
      "metadata": {
        "id": "XLisGLKvpFgA",
        "outputId": "155f4a84-d3a4-4233-99cf-e4fc507dbd80"
      },
      "outputs": [
        {
          "data": {
            "image/png": "[encoded data removed]",
            "text/plain": [
              "<Figure size 640x480 with 1 Axes>"
            ]
          },
          "metadata": {},
          "output_type": "display_data"
        }
      ],
      "source": [
        "def plot_pair_with_legned(x1, x2, x1_label , x2_label, y):\n",
        "    plt.figure()\n",
        "    for i, target_name in enumerate(iris.target_names):\n",
        "        plt.scatter(x1[y == i], x2[y == i], label=target_name)\n",
        "\n",
        "    plt.xlabel(x1_label)\n",
        "    plt.ylabel(x2_label)\n",
        "    plt.legend()\n",
        "    plt.show()\n",
        "\n",
        "plot_pair_with_legned(X[:,0], X[:,1], feature_names[0], feature_names[1], y)"
      ]
    },
    {
      "cell_type": "markdown",
      "metadata": {
        "id": "hRGd-e4TpFgA"
      },
      "source": [
        "#### Write a function called plot_pairwise that takes the pair of feaure and their labels and plot the scatter plot."
      ]
    },
    {
      "cell_type": "code",
      "execution_count": 20,
      "metadata": {
        "id": "sYldx4LipFgA"
      },
      "outputs": [],
      "source": [
        "def plot_pair(X1, X2, x1_label , x2_label, y):\n",
        "    plt.figure()\n",
        "    plt.scatter(X1, X2, c=y)\n",
        "    plt.xlabel(x1_label)\n",
        "    plt.ylabel(x2_label)\n",
        "    plt.show()"
      ]
    },
    {
      "cell_type": "markdown",
      "metadata": {
        "id": "VYH7NiMepFgA"
      },
      "source": [
        "#### Use plot_pari functions and plot the scatter plot for all pairs of features.\n",
        "```python\n",
        "X[:,0], X[:,1], 'Sepal Length', 'Sepal Width'\n",
        "X[:,0], X[:,2], 'Sepal Length', 'Petal Length'\n",
        "X[:,0], X[:,3], 'Sepal Length', 'Petal Width'\n",
        "X[:,1], X[:,2], 'Sepal Width', 'Petal Length'\n",
        "X[:,1], X[:,3], 'Sepal Width', 'Petal Width'\n",
        "X[:,2], X[:,3], 'Petal Length', 'Petal Width'\n",
        "```"
      ]
    },
    {
      "cell_type": "code",
      "execution_count": 21,
      "metadata": {
        "colab": {
          "base_uri": "https://localhost:8080/",
          "height": 1000
        },
        "id": "_U77YGyTpFgA",
        "outputId": "cd264f69-8947-43ac-bc3c-8929041a4aed"
      },
      "outputs": [
        {
          "output_type": "display_data",
          "data": {
            "text/plain": [
              "<Figure size 640x480 with 1 Axes>"
            ],
            "image/png": "[encoded data removed]"
          },
          "metadata": {}
        },
        {
          "output_type": "display_data",
          "data": {
            "text/plain": [
              "<Figure size 640x480 with 1 Axes>"
            ],
            "image/png": "[encoded data removed]"
          },
          "metadata": {}
        },
        {
          "output_type": "display_data",
          "data": {
            "text/plain": [
              "<Figure size 640x480 with 1 Axes>"
            ],
            "image/png": "[encoded data removed]"
          },
          "metadata": {}
        },
        {
          "output_type": "display_data",
          "data": {
            "text/plain": [
              "<Figure size 640x480 with 1 Axes>"
            ],
            "image/png": "[encoded data removed]"
          },
          "metadata": {}
        },
        {
          "output_type": "display_data",
          "data": {
            "text/plain": [
              "<Figure size 640x480 with 1 Axes>"
            ],
            "image/png": "[encoded data removed]"
          },
          "metadata": {}
        },
        {
          "output_type": "display_data",
          "data": {
            "text/plain": [
              "<Figure size 640x480 with 1 Axes>"
            ],
            "image/png": "[encoded data removed]"
          },
          "metadata": {}
        }
      ],
      "source": [
        "plot_pair(X[:,0], X[:,1], 'Sepal Length', 'Sepal Width', y)\n",
        "plot_pair(X[:,0], X[:,2], 'Sepal Length', 'Petal Length', y)\n",
        "plot_pair(X[:,0], X[:,3], 'Sepal Length', 'Petal Width', y)\n",
        "plot_pair(X[:,1], X[:,2], 'Sepal Width', 'Petal Length', y)\n",
        "plot_pair(X[:,1], X[:,3], 'Sepal Width', 'Petal Width', y)\n",
        "plot_pair(X[:,2], X[:,3], 'Petal Length', 'Petal Width', y)"
      ]
    },
    {
      "cell_type": "markdown",
      "metadata": {
        "id": "W5O9Npw_pFgA"
      },
      "source": [
        "# K Nearest Neighbors (KNN)"
      ]
    },
    {
      "cell_type": "markdown",
      "metadata": {
        "id": "AQHP-WOJpFgA"
      },
      "source": [
        "## Euclidean Distance (2D)\n",
        "\n",
        "In geometry, the **Euclidean distance** is the straight-line distance between two points.\n",
        "\n",
        "Given two points $ P(x_1, y_1) $ and $ Q(x_2, y_2)$ in a 2D plane, the Euclidean distance between them is calculated  as follows:\n",
        "\n",
        "$\n",
        "d(P, Q) = \\sqrt{(x_2 - x_1)^2 + (y_2 - y_1)^2}\n",
        "$\n",
        "\n",
        "<img src=\"https://raw.githubusercontent.com/PyDataGBC/PyData2025/refs/heads/main/Lab_Week7_KNN/assets/figure.png\" width=\"400\" hight=\"300\" />"
      ]
    },
    {
      "cell_type": "markdown",
      "metadata": {
        "id": "5X8R0XBkpFgA"
      },
      "source": [
        "#### Example (2D)\n",
        "\n",
        "Let's say we have two points:\n",
        "- $ P(2, 2) $\n",
        "- $ P_2(5, 5) $\n",
        "\n",
        "$\n",
        "d(P_1, P_2) = \\sqrt{(2 - 5)^2 + (2 - 5)^2}= \\sqrt{18} \\approx 4.2\n",
        "$\n",
        "\n",
        "We can calculate the distance between these two points."
      ]
    },
    {
      "cell_type": "code",
      "execution_count": 22,
      "metadata": {
        "colab": {
          "base_uri": "https://localhost:8080/"
        },
        "id": "KudzOtFppFgA",
        "outputId": "02711a7a-55af-4157-8456-d3733ffb53b1"
      },
      "outputs": [
        {
          "output_type": "execute_result",
          "data": {
            "text/plain": [
              "np.float64(4.242640687119285)"
            ]
          },
          "metadata": {},
          "execution_count": 22
        }
      ],
      "source": [
        "P = np.array([2, 2])\n",
        "Q = np.array([5, 5])\n",
        "distance = np.sqrt(np.sum((P - Q)**2))\n",
        "distance"
      ]
    },
    {
      "cell_type": "markdown",
      "metadata": {
        "id": "lLAS6Hg9pFgA"
      },
      "source": [
        "\n",
        "#### Example (3 Dimensions)\n",
        "\n",
        "Consider two points in 3D space:\n",
        "- $ P_1(1, 2, 3) $\n",
        "- $ P_2(4, 0, 8) $\n",
        "\n",
        "We can calculate the Euclidean distance as follows:\n",
        "\n",
        "$\n",
        "d(P_1, P_2) = \\sqrt{(4 - 1)^2 + (0 - 2)^2 + (8 - 3)^2}\n",
        "$\n",
        "\n",
        "$\n",
        "d(P_1, P_2) = \\sqrt{3^2 + (-2)^2 + 5^2} = \\sqrt{9 + 4 + 25} = \\sqrt{38} \\approx 6.16\n",
        "$"
      ]
    },
    {
      "cell_type": "code",
      "execution_count": null,
      "metadata": {
        "id": "VZtWWkAmpFgB",
        "outputId": "8437d953-6e4a-4f3a-b15e-1e0929463b9f"
      },
      "outputs": [
        {
          "name": "stdout",
          "output_type": "stream",
          "text": [
            "The Euclidean distance between P1 and P2 is: 6.16\n"
          ]
        }
      ],
      "source": [
        "# Define two points in 3D space\n",
        "P1 = np.array([1, 2, 3])\n",
        "P2 = np.array([4, 0, 8])\n",
        "\n",
        "# Calculate the Euclidean distance\n",
        "distance = np.sqrt(np.sum((P2 - P1)**2))\n",
        "\n",
        "print(f'The Euclidean distance between P1 and P2 is: {distance:.2f}')"
      ]
    },
    {
      "cell_type": "markdown",
      "metadata": {
        "id": "08MBPqqrpFgB"
      },
      "source": [
        "#### Write a function that get two np arrays `P` and `Q` and return the Euclidean distance between them.\n"
      ]
    },
    {
      "cell_type": "code",
      "execution_count": 24,
      "metadata": {
        "id": "5QsJ2gAupFgB"
      },
      "outputs": [],
      "source": [
        "def euclidean_distance(P, Q):\n",
        "  \"\"\"Calculates the Euclidean distance between two numpy arrays.\"\"\"\n",
        "  return np.sqrt(np.sum((P - Q)**2))"
      ]
    },
    {
      "cell_type": "markdown",
      "metadata": {
        "id": "qafAlL_IpFgB"
      },
      "source": [
        "## KNN Algorithm Steps"
      ]
    },
    {
      "cell_type": "markdown",
      "metadata": {
        "id": "esYI9GPKpFgB"
      },
      "source": [
        "<img src=\"https://raw.githubusercontent.com/PyDataGBC/PyData2025/refs/heads/main/Lab_Week7_KNN/assets/knn2.jpg\" width=\"600\" hight=\"100\" />"
      ]
    },
    {
      "cell_type": "markdown",
      "metadata": {
        "id": "VmlR12oxpFgB"
      },
      "source": [
        "# Implementing KNN"
      ]
    },
    {
      "cell_type": "markdown",
      "metadata": {
        "id": "aIevCBm-pFgB"
      },
      "source": [
        "### 0 - Look at the data - Splitting the data into training and testing sets"
      ]
    },
    {
      "cell_type": "code",
      "execution_count": 26,
      "metadata": {
        "id": "jbWD2VlTpFgB"
      },
      "outputs": [],
      "source": [
        "X_train, X_test, y_train, y_test = train_test_split(X, y, test_size=0.5, random_state=42)"
      ]
    },
    {
      "cell_type": "markdown",
      "metadata": {
        "id": "rT1kypE_pFgB"
      },
      "source": [
        "#### What is the `shape` of `X_train`, `X_test`, `y_train`, `y_test`?"
      ]
    },
    {
      "cell_type": "code",
      "execution_count": 27,
      "metadata": {
        "colab": {
          "base_uri": "https://localhost:8080/"
        },
        "id": "ObqFEk3ypFgB",
        "outputId": "b5f62f11-fd4d-48ee-9496-0498cac81dc4"
      },
      "outputs": [
        {
          "output_type": "stream",
          "name": "stdout",
          "text": [
            "Shape of X_train: (75, 4)\n",
            "Shape of X_test: (75, 4)\n",
            "Shape of y_train: (75,)\n",
            "Shape of y_test: (75,)\n"
          ]
        }
      ],
      "source": [
        "print(\"Shape of X_train:\", X_train.shape)\n",
        "print(\"Shape of X_test:\", X_test.shape)\n",
        "print(\"Shape of y_train:\", y_train.shape)\n",
        "print(\"Shape of y_test:\", y_test.shape)"
      ]
    },
    {
      "cell_type": "markdown",
      "metadata": {
        "id": "hJak20rPpFgB"
      },
      "source": [
        "### 1 - Calculate distances"
      ]
    },
    {
      "cell_type": "markdown",
      "metadata": {
        "id": "xcWCtoerpFgB"
      },
      "source": [
        "#### Take one sample from test set and find the distance between this sample and all samples in the training set. In addition to the distance, you need to store the index of the sample in the training set.\n",
        "\n",
        "#### So for exaple if the distance between the test sample and the 5th sample in the training set is 3.5, you need to store (5, 3.5)."
      ]
    },
    {
      "cell_type": "code",
      "execution_count": 28,
      "metadata": {
        "colab": {
          "base_uri": "https://localhost:8080/"
        },
        "id": "DDcj3vd8pFgB",
        "outputId": "891e086d-e3d9-4a2d-e86c-87f4be2df30b"
      },
      "outputs": [
        {
          "output_type": "stream",
          "name": "stdout",
          "text": [
            "[(0, np.float64(0.8124038404635955)), (1, np.float64(1.438749456993816)), (2, np.float64(1.0535653752852738)), (3, np.float64(3.3674916480965473)), (4, np.float64(1.8601075237738276))]\n"
          ]
        }
      ],
      "source": [
        "test_instance = X_test[0]\n",
        "distances = []\n",
        "for i in range(len(X_train)):\n",
        "    dist = euclidean_distance(test_instance, X_train[i])\n",
        "    distances.append((i, dist)) # Store index and distance\n",
        "print(distances[:5]) # Print first 5 to check"
      ]
    },
    {
      "cell_type": "markdown",
      "metadata": {
        "id": "49V9mQw7pFgB"
      },
      "source": [
        "#### Write a function called `calculate_distances` that takes the test sample and the training set and return the distances and the indices of the training samples."
      ]
    },
    {
      "cell_type": "code",
      "execution_count": 29,
      "metadata": {
        "id": "_HhhDnghpFgB"
      },
      "outputs": [],
      "source": [
        "def calculate_distances(test_instance, X_train):\n",
        "  \"\"\"\n",
        "  Calculates the Euclidean distance between a test instance and all training samples.\n",
        "\n",
        "  Args:\n",
        "    test_instance: A single data point from the test set.\n",
        "    X_train: The training dataset.\n",
        "\n",
        "  Returns:\n",
        "    A list of tuples, where each tuple contains the index of a training sample\n",
        "    and its Euclidean distance to the test instance.\n",
        "  \"\"\"\n",
        "  distances = []\n",
        "  for i in range(len(X_train)):\n",
        "      dist = euclidean_distance(test_instance, X_train[i])\n",
        "      distances.append((i, dist))\n",
        "  return distances"
      ]
    },
    {
      "cell_type": "markdown",
      "metadata": {
        "id": "YxvDeyeUpFgB"
      },
      "source": [
        "#### What you pass as `input` to the function `calculate_distances`? What you get as `output` when you call this function?"
      ]
    },
    {
      "cell_type": "markdown",
      "metadata": {
        "id": "38e6ee68"
      },
      "source": [
        "The `calculate_distances` function takes two inputs:\n",
        "- `test_instance`: A single data point (a numpy array) from the test set.\n",
        "- `X_train`: The entire training dataset (a numpy array of shape `(n_samples, n_features)`).\n",
        "\n",
        "The output of the function is a list of tuples. Each tuple contains two elements:\n",
        "- The index of a training sample in `X_train`.\n",
        "- The Euclidean distance between the `test_instance` and that training sample."
      ]
    },
    {
      "cell_type": "markdown",
      "metadata": {
        "id": "Goub6JqspFgB"
      },
      "source": [
        "#### What is `shape` of `input` arrays to the function `calculate_distances`? What is the `shape` of `output`?"
      ]
    },
    {
      "cell_type": "markdown",
      "metadata": {
        "id": "78a6a93f"
      },
      "source": [
        "The `test_instance` input is a 1-dimensional numpy array with a shape of `(n_features,)`, where `n_features` is the number of features in your dataset.\n",
        "\n",
        "The `X_train` input is a 2-dimensional numpy array with a shape of `(n_samples, n_features)`, where `n_samples` is the number of samples in the training set and `n_features` is the number of features.\n",
        "\n",
        "The output is a list of tuples. The shape of the output cannot be described in terms of numpy array shapes, as it's a list of tuples. However, the length of the list will be equal to the number of samples in the training set (`n_samples`). Each tuple within the list is of the form `(int, float)`, representing the index and distance respectively."
      ]
    },
    {
      "cell_type": "markdown",
      "metadata": {
        "id": "LkVcvE5ApFgB"
      },
      "source": [
        "### 2 - Find neighbors"
      ]
    },
    {
      "cell_type": "markdown",
      "metadata": {
        "id": "4hiBi4TNpFgB"
      },
      "source": [
        "**Step 1:** Sort the (index, distance) tuples based on distance value in anascending order."
      ]
    },
    {
      "cell_type": "code",
      "execution_count": null,
      "metadata": {
        "id": "qhKZziUQpFgB"
      },
      "outputs": [],
      "source": [
        "distances = calculate_distances(test_instance, X_train)\n",
        "distances.sort(key=lambda x: x[1])\n",
        "distances"
      ]
    },
    {
      "cell_type": "markdown",
      "metadata": {
        "id": "Ih4-gZjHpFgC"
      },
      "source": [
        "**Step 2:** Select the first k elements of the sorted list. And, store the index of these k elements in a list."
      ]
    },
    {
      "cell_type": "code",
      "execution_count": 30,
      "metadata": {
        "colab": {
          "base_uri": "https://localhost:8080/"
        },
        "id": "P92vwSjKpFgC",
        "outputId": "6df97118-1f74-41d4-bb49-6db89eabb896"
      },
      "outputs": [
        {
          "output_type": "execute_result",
          "data": {
            "text/plain": [
              "[(0, np.float64(0.8124038404635955)),\n",
              " (1, np.float64(1.438749456993816)),\n",
              " (2, np.float64(1.0535653752852738))]"
            ]
          },
          "metadata": {},
          "execution_count": 30
        }
      ],
      "source": [
        "k = 3\n",
        "distances[:k]"
      ]
    },
    {
      "cell_type": "markdown",
      "metadata": {
        "id": "zNpIwJlupFgC"
      },
      "source": [
        "#### Extract the index of the k nearest neighbors from (index, distance) tuples."
      ]
    },
    {
      "cell_type": "code",
      "execution_count": 31,
      "metadata": {
        "colab": {
          "base_uri": "https://localhost:8080/"
        },
        "id": "SBKw5UJ1pFgC",
        "outputId": "efb91336-636b-42cf-e6c4-7cc332cf0c4b"
      },
      "outputs": [
        {
          "output_type": "stream",
          "name": "stdout",
          "text": [
            "[0, 1, 2]\n"
          ]
        }
      ],
      "source": [
        "k_nearest_neighbors_indices = [dist[0] for dist in distances[:k]]\n",
        "print(k_nearest_neighbors_indices)"
      ]
    },
    {
      "cell_type": "markdown",
      "metadata": {
        "id": "yeywmAp1pFgC"
      },
      "source": [
        "#### **Step 3:** Find the labels of these top k samples from y_train array."
      ]
    },
    {
      "cell_type": "code",
      "execution_count": 32,
      "metadata": {
        "colab": {
          "base_uri": "https://localhost:8080/"
        },
        "id": "brcQhgrTpFgC",
        "outputId": "c97187c5-1840-40fe-829e-67109d7839b8"
      },
      "outputs": [
        {
          "output_type": "stream",
          "name": "stdout",
          "text": [
            "[np.int64(1), np.int64(2), np.int64(1)]\n"
          ]
        }
      ],
      "source": [
        "k_nearest_neighbors_labels = [y_train[i] for i in k_nearest_neighbors_indices]\n",
        "print(k_nearest_neighbors_labels)"
      ]
    },
    {
      "cell_type": "markdown",
      "metadata": {
        "id": "COwutfEYpFgC"
      },
      "source": [
        "#### Now write a function `find_neighbors_label` to do all the steps above from 1 to 3."
      ]
    },
    {
      "cell_type": "code",
      "execution_count": 33,
      "metadata": {
        "id": "p786em_3pFgC"
      },
      "outputs": [],
      "source": [
        "def find_neighbors_label(test_instance, X_train, y_train, k):\n",
        "    \"\"\"\n",
        "        Inputs\n",
        "        test_instance: One data point form test set\n",
        "        X_train: train dataset\n",
        "        y_train: train labels\n",
        "        k: number of neighbours\n",
        "\n",
        "        Output\n",
        "        neighbor_label: list of k neighbours labels\n",
        "    \"\"\"\n",
        "    #Calculate distances paird with index (index, distance)\n",
        "    distances = calculate_distances(test_instance, X_train)\n",
        "\n",
        "    #Sort distances\n",
        "    distances.sort(key=lambda x: x[1])\n",
        "\n",
        "    #Get the k nearest neighbors index\n",
        "    k_nearest_neighbors_indices = [dist[0] for dist in distances[:k]]\n",
        "\n",
        "    #Get the labels of the k nearest neighbors from y_train\n",
        "    neighbor_label = [y_train[i] for i in k_nearest_neighbors_indices]\n",
        "\n",
        "    #return neighbor_label\n",
        "    return neighbor_label"
      ]
    },
    {
      "cell_type": "markdown",
      "metadata": {
        "id": "f8UQEYYnpFgC"
      },
      "source": [
        "#### What you pass as `input` to the function `find_neighbors`? What you get as `output` when you call this function?"
      ]
    },
    {
      "cell_type": "markdown",
      "metadata": {
        "id": "4nICnjJupFgC"
      },
      "source": [
        "The find_neighbors_label function takes the following inputs:\n",
        "\n",
        "test_instance: A single data point from the test set (a numpy array).\n",
        "X_train: The training dataset (a numpy array).\n",
        "y_train: The target labels for the training dataset (a numpy array).\n",
        "k: An integer representing the number of nearest neighbors to consider.\n",
        "The output of the function is a list of the target labels (neighbor_label) corresponding to the k nearest neighbors in the training set to the test_instance."
      ]
    },
    {
      "cell_type": "markdown",
      "metadata": {
        "id": "KUgmUFzbpFgC"
      },
      "source": [
        "#### What is `shape` of `input` arrays to the function `find_neighbors`? What is the `shape` of `output`?"
      ]
    },
    {
      "cell_type": "markdown",
      "metadata": {
        "id": "494a27c3"
      },
      "source": [
        "The `test_instance` input is a 1-dimensional numpy array with a shape of `(n_features,)`, where `n_features` is the number of features in your dataset.\n",
        "\n",
        "The `X_train` input is a 2-dimensional numpy array with a shape of `(n_samples, n_features)`, where `n_samples` is the number of samples in the training set and `n_features` is the number of features.\n",
        "\n",
        "The `y_train` input is a 1-dimensional numpy array with a shape of `(n_samples,)`.\n",
        "\n",
        "The `k` input is a single integer.\n",
        "\n",
        "The output is a list of integers (the labels). The shape of the output cannot be described in terms of numpy array shapes, as it's a list of integers. However, the length of the list will be equal to the value of `k`."
      ]
    },
    {
      "cell_type": "markdown",
      "metadata": {
        "id": "UrBEOi7opFgC"
      },
      "source": [
        "#### Explain what operations  are done inside the function `find_neighbors`  to calculate the label of k nearest neighbors?"
      ]
    },
    {
      "cell_type": "markdown",
      "metadata": {
        "id": "067df95c"
      },
      "source": [
        "The `find_neighbors_label` function performs the following operations to find the labels of the k nearest neighbors for a given test instance:\n",
        "\n",
        "1.  **Calculate Distances:** It calculates the Euclidean distance between the `test_instance` and every sample in the `X_train` dataset using the `calculate_distances` function. It stores these distances along with the index of the corresponding training sample in a list of tuples.\n",
        "2.  **Sort Distances:** It sorts the list of (index, distance) tuples in ascending order based on the distance values.\n",
        "3.  **Identify k Nearest Neighbors:** It selects the first `k` tuples from the sorted list.\n",
        "4.  **Extract Labels:** It retrieves the target labels from the `y_train` array for the indices of the k nearest neighbors identified in the previous step.\n",
        "5.  **Return Labels:** It returns a list containing the labels of the k nearest neighbors."
      ]
    },
    {
      "cell_type": "markdown",
      "metadata": {
        "id": "txMKBHjepFgC"
      },
      "source": [
        "### 3 - Vote on labels"
      ]
    },
    {
      "cell_type": "markdown",
      "metadata": {
        "id": "zaxuaovzpFgC"
      },
      "source": [
        "You have this function to vote on labels of the k nearest neighbors."
      ]
    },
    {
      "cell_type": "code",
      "execution_count": 34,
      "metadata": {
        "id": "aXEinHDIpFgC"
      },
      "outputs": [],
      "source": [
        "def vote_on_labels(neighbor_label):\n",
        "    label_to_num_of_occurance = {}\n",
        "    for label in neighbor_label:\n",
        "        label_to_num_of_occurance[label] = label_to_num_of_occurance.get(label, 0) + 1\n",
        "\n",
        "    prediction = max(label_to_num_of_occurance.items(), key=lambda x: x[1]) # find the label with max occurance (label, num_of_occurance)\n",
        "    return prediction[0] # return the label form the (label, num_of_occurance) tuple"
      ]
    },
    {
      "cell_type": "markdown",
      "metadata": {
        "id": "bD1ejwZwpFgC"
      },
      "source": [
        "(optional) This is another way to implement the function - Scikit learn uses this method"
      ]
    },
    {
      "cell_type": "code",
      "execution_count": 35,
      "metadata": {
        "id": "c17OGMQDpFgC"
      },
      "outputs": [],
      "source": [
        "import scipy.stats\n",
        "def vote_on_labels(neighbor_label):\n",
        "     prediction = scipy.stats.mode(neighbor_label)\n",
        "     return prediction[0]"
      ]
    },
    {
      "cell_type": "code",
      "execution_count": null,
      "metadata": {
        "id": "N-mjxrqbpFgC",
        "outputId": "4270753b-b145-4de8-f207-e7013f91cb9b"
      },
      "outputs": [
        {
          "data": {
            "text/plain": [
              "np.int64(1)"
            ]
          },
          "execution_count": 32,
          "metadata": {},
          "output_type": "execute_result"
        }
      ],
      "source": [
        "y_pred = vote_on_labels(neighbor_label)\n",
        "y_pred"
      ]
    },
    {
      "cell_type": "markdown",
      "metadata": {
        "id": "N5rawejnpFgC"
      },
      "source": [
        "#### What you pass as `input` to the function `vote_on_label`? What you get as `output` when you call this function?"
      ]
    },
    {
      "cell_type": "markdown",
      "metadata": {
        "id": "2c2b308a"
      },
      "source": [
        "The `vote_on_labels` function takes one input:\n",
        "- `neighbor_label`: A list of the target labels of the k nearest neighbors (a list of integers).\n",
        "\n",
        "The output of the function is a single integer, which is the predicted class label based on the most frequent label among the k nearest neighbors."
      ]
    },
    {
      "cell_type": "markdown",
      "metadata": {
        "id": "t1MSSPQUpFgC"
      },
      "source": [
        "#### What is `shape` of `input` arrays to the function `vote_on_label`? What is the `shape` of `output`?"
      ]
    },
    {
      "cell_type": "markdown",
      "metadata": {
        "id": "bb059614"
      },
      "source": [
        "The `vote_on_labels` function takes one input:\n",
        "- `neighbor_label`: A list of integers. The shape cannot be described as a numpy array shape, but its length is equal to `k`.\n",
        "\n",
        "The output of the function is a single integer. The shape is just a scalar value, not a numpy array."
      ]
    },
    {
      "cell_type": "markdown",
      "metadata": {
        "id": "U2ONLXtSpFgC"
      },
      "source": [
        "### 4 - put it all together"
      ]
    },
    {
      "cell_type": "markdown",
      "metadata": {
        "id": "7-Lc3Z0ipFgD"
      },
      "source": [
        "#### Now iterate over all datapoints of `X_test` and calculate their label."
      ]
    },
    {
      "cell_type": "code",
      "execution_count": 36,
      "metadata": {
        "id": "Cn94ANL4pFgD"
      },
      "outputs": [],
      "source": [
        "y_pred = []\n",
        "for test_instance in X_test:\n",
        "    neighbor_label = find_neighbors_label(test_instance, X_train, y_train, k)\n",
        "    prediction = vote_on_labels(neighbor_label)\n",
        "    y_pred.append(prediction)"
      ]
    },
    {
      "cell_type": "markdown",
      "metadata": {
        "id": "nLKhetlipFgD"
      },
      "source": [
        "#### Turn code into a function `KNN` that takes the `training set`, the `target labels` of the training set, the `test set`, and the value of k and return the predicted labels of the test set."
      ]
    },
    {
      "cell_type": "code",
      "execution_count": 37,
      "metadata": {
        "id": "CqmysPT7pFgD"
      },
      "outputs": [],
      "source": [
        "def KNN(X_train, y_train, X_test, k):\n",
        "    y_pred = []\n",
        "    for test_instance in X_test:\n",
        "        neighbor_label = find_neighbors_label(test_instance, X_train, y_train, k)\n",
        "        prediction = vote_on_labels(neighbor_label)\n",
        "        y_pred.append(prediction)\n",
        "    return y_pred"
      ]
    },
    {
      "cell_type": "markdown",
      "metadata": {
        "id": "yiQlkcBRpFgD"
      },
      "source": [
        "#### What is the `shape` of the `input` to the function `KNN`? What is the `shape` of the `output`?"
      ]
    },
    {
      "cell_type": "code",
      "execution_count": null,
      "metadata": {
        "id": "ZFxmHECepFgD"
      },
      "outputs": [],
      "source": []
    },
    {
      "cell_type": "markdown",
      "metadata": {
        "id": "19737968"
      },
      "source": [
        "The `KNN` function takes the following inputs:\n",
        "- `X_train`: A 2-dimensional numpy array with shape `(n_train_samples, n_features)`.\n",
        "- `y_train`: A 1-dimensional numpy array with shape `(n_train_samples,)`.\n",
        "- `X_test`: A 2-dimensional numpy array with shape `(n_test_samples, n_features)`.\n",
        "- `k`: A single integer.\n",
        "\n",
        "The output `y_pred` is a list of integers. The shape cannot be described as a numpy array shape, but its length is equal to the number of test samples (`n_test_samples`)."
      ]
    },
    {
      "cell_type": "markdown",
      "metadata": {
        "id": "tmdGggkNpFgD"
      },
      "source": [
        "#### Explain which functions you defined from previous steps are used in `KNN` function?"
      ]
    },
    {
      "cell_type": "markdown",
      "metadata": {
        "id": "87af5d1a"
      },
      "source": [
        "The `KNN` function utilizes the following functions that were defined in the previous steps:\n",
        "\n",
        "-   `find_neighbors_label(test_instance, X_train, y_train, k)`: This function is called for each `test_instance` in `X_test` to find the labels of its `k` nearest neighbors in the training set.\n",
        "-   `vote_on_labels(neighbor_label)`: This function is called with the list of neighbor labels returned by `find_neighbors_label` to determine the predicted label for the current `test_instance`."
      ]
    },
    {
      "cell_type": "markdown",
      "metadata": {
        "id": "TKtJB5pbpFgD"
      },
      "source": [
        "### 5 - Evaluate the model"
      ]
    },
    {
      "cell_type": "markdown",
      "metadata": {
        "id": "xmRYSZ1fpFgD"
      },
      "source": [
        "Finally, calculate the accuracy of the KNN algorithm."
      ]
    },
    {
      "cell_type": "code",
      "execution_count": 38,
      "metadata": {
        "colab": {
          "base_uri": "https://localhost:8080/"
        },
        "id": "OmJ5Bd2spFgD",
        "outputId": "681f2f2c-b7a6-4490-e42f-57d6ed8f0797"
      },
      "outputs": [
        {
          "output_type": "execute_result",
          "data": {
            "text/plain": [
              "array([ True,  True,  True,  True,  True,  True,  True,  True,  True,\n",
              "        True,  True,  True,  True,  True,  True,  True,  True,  True,\n",
              "        True,  True,  True,  True,  True,  True,  True,  True,  True,\n",
              "        True,  True,  True,  True,  True,  True,  True,  True,  True,\n",
              "        True,  True,  True,  True,  True,  True,  True,  True,  True,\n",
              "        True, False,  True,  True,  True,  True,  True,  True,  True,\n",
              "        True,  True,  True,  True,  True,  True, False,  True,  True,\n",
              "        True,  True,  True,  True,  True,  True,  True,  True,  True,\n",
              "        True,  True,  True])"
            ]
          },
          "metadata": {},
          "execution_count": 38
        }
      ],
      "source": [
        "y_test == y_pred"
      ]
    },
    {
      "cell_type": "code",
      "execution_count": 41,
      "metadata": {
        "colab": {
          "base_uri": "https://localhost:8080/"
        },
        "id": "N9jdxKFvpFgD",
        "outputId": "b5e88bc9-4dc7-4fc2-e248-ffe493995d15"
      },
      "outputs": [
        {
          "output_type": "stream",
          "name": "stdout",
          "text": [
            "accuracy: 97.33333333333334 %\n"
          ]
        }
      ],
      "source": [
        "accuracy = sum(y_test == y_pred) / len(y_test) #takes True as 1 and False as 0\n",
        "print(f\"accuracy: {accuracy * 100} %\")"
      ]
    },
    {
      "cell_type": "markdown",
      "metadata": {
        "id": "VN9fjBhLpFgD"
      },
      "source": [
        "#### Turn your code into a function `evaluate` that takes the predicted labels and the true labels and return the accuracy of the model."
      ]
    },
    {
      "cell_type": "code",
      "execution_count": 42,
      "metadata": {
        "id": "yFrp9WxEpFgD"
      },
      "outputs": [],
      "source": [
        "def evaluate(y_test, y_pred):\n",
        "    # your code here\n",
        "    accuracy = sum(y_test == y_pred) / len(y_test)\n",
        "    return accuracy"
      ]
    },
    {
      "cell_type": "markdown",
      "metadata": {
        "id": "TZ1D_UyqpFgD"
      },
      "source": [
        "#### (Optional) 6 - Hyperparameter tuning"
      ]
    },
    {
      "cell_type": "markdown",
      "metadata": {
        "id": "2jWhD3pspFgD"
      },
      "source": [
        "### So far we have used k =3 for number of nearest neighbours. Find the best value of `k` for the KNN algorithm on your dataset.\n",
        "\n",
        "Helper: Find the accuracy of the model for different values of `k` and plot the accuracy vs `k` to find the best value of `k`."
      ]
    },
    {
      "cell_type": "code",
      "execution_count": 43,
      "metadata": {
        "id": "wlg43TbtpFgD"
      },
      "outputs": [],
      "source": [
        "K = [1, 2, 3, 4, 5, 6, 7, 8]\n",
        "my_accs = []\n",
        "for k in K:\n",
        "    y_pred = KNN(X_train, y_train, X_test, k)\n",
        "    accuracy = evaluate(y_test, y_pred)\n",
        "    my_accs.append(accuracy)"
      ]
    },
    {
      "cell_type": "markdown",
      "metadata": {
        "id": "xhWuyWiIpFgD"
      },
      "source": [
        "# KNN in Scikit-Learn"
      ]
    },
    {
      "cell_type": "markdown",
      "metadata": {
        "id": "_AEgV_p5pFgD"
      },
      "source": [
        "<img src=\"https://raw.githubusercontent.com/PyDataGBC/PyData2025/refs/heads/main/Lab_Week7_KNN/assets/Scikit-learn-flow.jpeg\" width=\"500\" hight=\"400\" />"
      ]
    },
    {
      "cell_type": "code",
      "execution_count": 44,
      "metadata": {
        "colab": {
          "base_uri": "https://localhost:8080/"
        },
        "id": "EdA7snIRpFgD",
        "outputId": "b99988dc-1624-44b5-cf3e-445cc82fde32"
      },
      "outputs": [
        {
          "output_type": "stream",
          "name": "stdout",
          "text": [
            "Accuracy: 94.67%\n"
          ]
        }
      ],
      "source": [
        "model = KNeighborsClassifier(n_neighbors=k)\n",
        "model.fit(X_train, y_train)\n",
        "y_pred = model.predict(X_test)\n",
        "accuracy = accuracy_score(y_test, y_pred)\n",
        "print(f\"Accuracy: {accuracy * 100:.2f}%\")"
      ]
    }
  ],
  "metadata": {
    "kernelspec": {
      "display_name": ".comp3122",
      "language": "python",
      "name": "python3"
    },
    "language_info": {
      "codemirror_mode": {
        "name": "ipython",
        "version": 3
      },
      "file_extension": ".py",
      "mimetype": "text/x-python",
      "name": "python",
      "nbconvert_exporter": "python",
      "pygments_lexer": "ipython3",
      "version": "3.12.9"
    },
    "colab": {
      "provenance": [],
      "include_colab_link": true
    }
  },
  "nbformat": 4,
  "nbformat_minor": 0
}